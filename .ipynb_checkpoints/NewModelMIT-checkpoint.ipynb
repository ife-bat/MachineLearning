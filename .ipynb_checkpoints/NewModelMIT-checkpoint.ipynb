{
 "cells": [
  {
   "cell_type": "markdown",
   "id": "5c64838d",
   "metadata": {},
   "source": [
    "# Machine Learning Pipeline for cycle life prediction\n",
    "\n",
    "last edit: 28.03.2022\n",
    "\n",
    "This Notebook reads in data from processed files, generates model features, and makes pipelines for different machine learning models for predicting cycle life. "
   ]
  },
  {
   "cell_type": "code",
   "execution_count": 1,
   "id": "26ff6364",
   "metadata": {},
   "outputs": [],
   "source": [
    "import pandas as pd\n",
    "import numpy as np\n",
    "import matplotlib.pyplot as plt\n",
    "import os, random\n",
    "\n",
    "from scipy.stats import skew, kurtosis, iqr"
   ]
  },
  {
   "cell_type": "code",
   "execution_count": 2,
   "id": "45d1887e",
   "metadata": {},
   "outputs": [
    {
     "name": "stdout",
     "output_type": "stream",
     "text": [
      "137 137 137 137\n"
     ]
    }
   ],
   "source": [
    "summary = []\n",
    "c10 = []\n",
    "c100 = []\n",
    "Qd100_10 = []\n",
    "\n",
    "dir_summary = r\"C:\\Users\\ife12216\\OneDrive - Institutt for Energiteknikk\\Documents\\Masteroppgave\\ML_github\\data\\MIT\\interim\\summary\"\n",
    "dir_c10 = r\"C:\\Users\\ife12216\\OneDrive - Institutt for Energiteknikk\\Documents\\Masteroppgave\\ML_github\\data\\MIT\\interim\\cycles_interpolated\\cycle10_discharge\"\n",
    "dir_c100 = r\"C:\\Users\\ife12216\\OneDrive - Institutt for Energiteknikk\\Documents\\Masteroppgave\\ML_github\\data\\MIT\\interim\\cycles_interpolated\\cycle100_discharge\"\n",
    "dir_Qd100_10 = r\"C:\\Users\\ife12216\\OneDrive - Institutt for Energiteknikk\\Documents\\Masteroppgave\\ML_github\\data\\MIT\\interim\\cycles_interpolated\\DeltaQ100_10_discharge\"\n",
    "\n",
    "for file in range(len(os.listdir(dir_summary))):\n",
    "    f1 = os.path.join(dir_summary, os.listdir(dir_summary)[file])\n",
    "    summary.append(pd.read_csv(f1))\n",
    "    \n",
    "    f2 = os.path.join(dir_c10, os.listdir(dir_c10)[file])\n",
    "    c10.append(pd.read_csv(f2))\n",
    "    \n",
    "    f3 = os.path.join(dir_c100, os.listdir(dir_c100)[file])\n",
    "    c100.append(pd.read_csv(f3))\n",
    "    \n",
    "    f4 = os.path.join(dir_Qd100_10, os.listdir(dir_Qd100_10)[file])\n",
    "    Qd100_10.append(pd.read_csv(f4))\n",
    "    \n",
    "print(len(summary), len(c10), len(c100), len(Qd100_10))"
   ]
  },
  {
   "cell_type": "code",
   "execution_count": 3,
   "id": "a368fba8",
   "metadata": {},
   "outputs": [
    {
     "ename": "IndexError",
     "evalue": "list index out of range",
     "output_type": "error",
     "traceback": [
      "\u001b[1;31m---------------------------------------------------------------------------\u001b[0m",
      "\u001b[1;31mIndexError\u001b[0m                                Traceback (most recent call last)",
      "\u001b[1;32m<ipython-input-3-6c71d23a875b>\u001b[0m in \u001b[0;36m<module>\u001b[1;34m\u001b[0m\n\u001b[0;32m      1\u001b[0m \u001b[1;31m# Remove outlier cell that starts at low capacity\u001b[0m\u001b[1;33m\u001b[0m\u001b[1;33m\u001b[0m\u001b[1;33m\u001b[0m\u001b[0m\n\u001b[0;32m      2\u001b[0m \u001b[1;32mfor\u001b[0m \u001b[0mi\u001b[0m \u001b[1;32min\u001b[0m \u001b[0mrange\u001b[0m\u001b[1;33m(\u001b[0m\u001b[0mlen\u001b[0m\u001b[1;33m(\u001b[0m\u001b[0msummary\u001b[0m\u001b[1;33m)\u001b[0m\u001b[1;33m)\u001b[0m\u001b[1;33m:\u001b[0m\u001b[1;33m\u001b[0m\u001b[1;33m\u001b[0m\u001b[0m\n\u001b[1;32m----> 3\u001b[1;33m     \u001b[1;32mif\u001b[0m\u001b[1;33m(\u001b[0m\u001b[0msummary\u001b[0m\u001b[1;33m[\u001b[0m\u001b[0mi\u001b[0m\u001b[1;33m]\u001b[0m\u001b[1;33m.\u001b[0m\u001b[0miloc\u001b[0m\u001b[1;33m[\u001b[0m\u001b[1;36m1\u001b[0m\u001b[1;33m]\u001b[0m\u001b[1;33m[\u001b[0m\u001b[1;34m'discharge_capacity'\u001b[0m\u001b[1;33m]\u001b[0m \u001b[1;33m<\u001b[0m \u001b[1;36m1\u001b[0m\u001b[1;33m)\u001b[0m\u001b[1;33m:\u001b[0m\u001b[1;33m\u001b[0m\u001b[1;33m\u001b[0m\u001b[0m\n\u001b[0m\u001b[0;32m      4\u001b[0m         \u001b[0msummary\u001b[0m\u001b[1;33m.\u001b[0m\u001b[0mpop\u001b[0m\u001b[1;33m(\u001b[0m\u001b[0mi\u001b[0m\u001b[1;33m)\u001b[0m\u001b[1;33m\u001b[0m\u001b[1;33m\u001b[0m\u001b[0m\n\u001b[0;32m      5\u001b[0m         \u001b[0mQd100_10\u001b[0m\u001b[1;33m.\u001b[0m\u001b[0mpop\u001b[0m\u001b[1;33m(\u001b[0m\u001b[0mi\u001b[0m\u001b[1;33m)\u001b[0m\u001b[1;33m\u001b[0m\u001b[1;33m\u001b[0m\u001b[0m\n",
      "\u001b[1;31mIndexError\u001b[0m: list index out of range"
     ]
    }
   ],
   "source": [
    "# Remove outlier cell that starts at low capacity\n",
    "for i in range(len(summary)):\n",
    "    if(summary[i].iloc[1]['discharge_capacity'] < 1):\n",
    "        summary.pop(i)\n",
    "        Qd100_10.pop(i)\n",
    "        \n",
    "print(len(summary), len(Qd100_10))"
   ]
  },
  {
   "cell_type": "code",
   "execution_count": 5,
   "id": "bc6b8edd",
   "metadata": {},
   "outputs": [
    {
     "name": "stdout",
     "output_type": "stream",
     "text": [
      "136 136\n"
     ]
    }
   ],
   "source": [
    "print(len(summary), len(Qd100_10))"
   ]
  },
  {
   "cell_type": "code",
   "execution_count": null,
   "id": "cfd6a23f",
   "metadata": {},
   "outputs": [],
   "source": []
  },
  {
   "cell_type": "code",
   "execution_count": null,
   "id": "ef0bae1b",
   "metadata": {},
   "outputs": [],
   "source": [
    "c10[0]"
   ]
  },
  {
   "cell_type": "markdown",
   "id": "ea69467b",
   "metadata": {},
   "source": [
    "# Feature Generation\n",
    "\n",
    "The features can be split into three categories:\n",
    "\n",
    "Features based on $\\Delta Q_{100-10}(V)$\n",
    "- f1: min$(\\Delta Q_{100-10}(V))$\n",
    "- f2: mean$(\\Delta Q_{100-10}(V))$\n",
    "- f3: var$(\\Delta Q_{100-10}(V))$\n",
    "- f4: skewness$(\\Delta Q_{100-10}(V))$\n",
    "- f5: kurtosis$(\\Delta Q_{100-10}(V))$\n",
    "\n",
    "Features based on the discharge capacity fade curves\n",
    "- f6: Slope of the linear fit to the capacity fade curve, cycles 2 to 100\n",
    "- f7: Intercept of the linear fit to capacity fade curve, cycles 2 to 100\n",
    "- f8: Slope of the linear fit to the capacity fade curve, cycles 91 to 100\n",
    "- f9: Intercept of the linear fit to capacity fade curve, cycles 91 to 100\n",
    "- f10: Discharge capacity, cycle 2\n",
    "- f11: Difference between max discharge capacity and cycle 2\n",
    "- f12: Discharge capacity, cycle 100\n",
    "\n",
    "Other features\n",
    "- f13: Average charge time, first 5 cycles\n",
    "- f14: Maximum temperature, cycles 2 to 100\n",
    "- f15: Minimum temperature, cycles 2 to 100\n",
    "- f16: Integral of temperature over time, cycles 2 to 100\n",
    "- f17: Internal resistance, cycle 2\n",
    "- f18: Minimum internal resistance, cycles 2 to 100\n",
    "- f19: Internal resistance, difference between cycle 100 and cycle 2\n",
    "\n",
    "\n",
    "\n",
    "The features are extracted in the cell below."
   ]
  },
  {
   "cell_type": "code",
   "execution_count": null,
   "id": "d20b0768",
   "metadata": {},
   "outputs": [],
   "source": [
    "p = 24 # number of features, p\n",
    "n = len(summary) # number of samples, n\n",
    "\n",
    "# Target vector\n",
    "y = np.zeros((n)) # (samples)\n",
    "\n",
    "# Design matrix\n",
    "X = np.zeros((n,p)) # (samples x features)\n",
    "\n",
    "# Q100-10 features f1-f5\n",
    "for i in range(len(Qd100_10)): \n",
    "    \n",
    "    y[i] = np.log10(summary[i].index[-1])\n",
    "    \n",
    "    # Discharge related features\n",
    "    X[i,0] = np.log10(abs(np.amin(Qd100_10[i]['discharge_capacity'].values)))\n",
    "    X[i,1] = np.log10(abs(np.mean(Qd100_10[i]['discharge_capacity'].values)))\n",
    "    X[i,2] = np.log10(np.var(Qd100_10[i]['discharge_capacity'].values))\n",
    "    X[i,3] = np.log10(iqr(Qd100_10[i]['discharge_capacity'].values))\n",
    "    X[i,4] = np.log10(iqr(Qd100_10[i]['discharge_capacity'].values, rng=(10,90)))\n",
    "    X[i,5] = np.log10(iqr(Qd100_10[i]['discharge_capacity'].values, rng=(20,80)))\n",
    "    X[i,6] = np.log10(abs(skew(Qd100_10[i]['discharge_capacity'].values)))\n",
    "    X[i,7] = np.log10(abs(kurtosis(Qd100_10[i]['discharge_capacity'].values)))\n",
    "    \n",
    "    # Capacity related features\n",
    "    Qd80_100 = summary[i]['discharge_capacity'][79:100].values\n",
    "    fit80_100 = np.polyfit(np.arange(79,100), Qd80_100, 1)\n",
    "    slope80_100 = fit80_100[0]\n",
    "    intercept80_100 = fit80_100[1]\n",
    "    \n",
    "    Qd2_100 = summary[i]['discharge_capacity'][1:100].values\n",
    "    fit2_100 = np.polyfit(np.arange(1,100), Qd2_100, 1)\n",
    "    slope2_100 = fit2_100[0]\n",
    "    intercept2_100 = fit2_100[1]\n",
    "    \n",
    "    Qd91_100 = summary[i]['discharge_capacity'][90:100].values\n",
    "    fit91_100 = np.polyfit(np.arange(90,100), Qd91_100, 1)\n",
    "    slope91_100 = fit91_100[0]\n",
    "    intercept91_100 = fit91_100[1]\n",
    "    \n",
    "    Q_maxdiff = np.amax(summary[i]['discharge_capacity'][1:100]) - summary[i]['discharge_capacity'][1]\n",
    "    \n",
    "    X[i,8] = slope80_100\n",
    "    X[i,9] = intercept80_100\n",
    "    \n",
    "    X[i,10] = slope2_100\n",
    "    X[i,11] = intercept2_100\n",
    "    \n",
    "    X[i,12] = slope91_100\n",
    "    X[i,13] = intercept91_100\n",
    "    \n",
    "    X[i,14] = summary[i]['discharge_capacity'][1]\n",
    "    X[i,15] = Q_maxdiff\n",
    "    \n",
    "    # Temperature related features\n",
    "    Tmin_diff = summary[i]['temperature_maximum'][100] - summary[i]['temperature_maximum'][1]\n",
    "    Tmax_diff = summary[i]['temperature_maximum'][100] - summary[i]['temperature_maximum'][1]\n",
    "    Tmean = np.mean(summary[i]['temperature_average'][1:100])\n",
    "    Tint_diff = summary[i]['time_temperature_integrated'][100] - summary[i]['time_temperature_integrated'][1]\n",
    "    \n",
    "    X[i,16] = Tmin_diff\n",
    "    X[i,17] = Tmax_diff\n",
    "    X[i,18] = Tmean\n",
    "    X[i,19] = Tint_diff\n",
    "    \n",
    "    # IR related features\n",
    "    X[i,20] = summary[i]['dc_internal_resistance'][100] - summary[i]['dc_internal_resistance'][1]\n",
    "    X[i,21] = np.mean(summary[i]['dc_internal_resistance'][1:100])\n",
    "    X[i,22] = np.amin(summary[i]['dc_internal_resistance'][1:100])\n",
    "    \n",
    "    # Charge related features\n",
    "    X[i,23] = np.mean(summary[i]['charge_duration'][1:6])"
   ]
  },
  {
   "cell_type": "code",
   "execution_count": null,
   "id": "2c32f4b3",
   "metadata": {},
   "outputs": [],
   "source": [
    "Qd80_100 = summary[0]['discharge_capacity'][80:100].values\n",
    "cycles = np.arange(80,100)\n",
    "fit80_100_lin = np.polyfit(np.arange(80,100), Qd80_100, 1)\n",
    "poly1 = np.poly1d(fit80_100_lin)\n",
    "\n",
    "plt.scatter(cycles, Qd80_100, color='orange', s=10)\n",
    "plt.plot(cycles, poly1(cycles), linewidth=0.5)\n",
    "plt.ylim(1.02,1.045)"
   ]
  },
  {
   "cell_type": "code",
   "execution_count": null,
   "id": "55620e6a",
   "metadata": {},
   "outputs": [],
   "source": [
    "for i in range(X.shape[1]):\n",
    "    corr = np.round(np.corrcoef(X[:,i], y), decimals=2)\n",
    "    print(i, corr[1][0])"
   ]
  },
  {
   "cell_type": "markdown",
   "id": "0d1a13e7",
   "metadata": {},
   "source": [
    "### Make Elastic Net model"
   ]
  },
  {
   "cell_type": "code",
   "execution_count": null,
   "id": "90a5415f",
   "metadata": {},
   "outputs": [],
   "source": [
    "from sklearn.pipeline import Pipeline\n",
    "from sklearn.linear_model import ElasticNet\n",
    "from sklearn.gaussian_process.kernels import ExpSineSquared\n",
    "from sklearn.gaussian_process import GaussianProcessRegressor\n",
    "from sklearn.svm import SVR\n",
    "from sklearn.ensemble import RandomForestRegressor\n",
    "from sklearn.neural_network import MLPRegressor\n",
    "from sklearn.preprocessing import StandardScaler\n",
    "from sklearn.model_selection import train_test_split, StratifiedKFold, GridSearchCV, KFold\n",
    "from sklearn.metrics import make_scorer, mean_squared_error\n",
    "\n",
    "from functions import get_errors, get_errors2"
   ]
  },
  {
   "cell_type": "code",
   "execution_count": null,
   "id": "f39d1a28",
   "metadata": {},
   "outputs": [],
   "source": [
    "def rmse_cycles(y_true, y_pred):\n",
    "    return mean_squared_error(np.power(10, y_true), np.power(10, y_pred), squared=False)"
   ]
  },
  {
   "cell_type": "markdown",
   "id": "c0b20c13",
   "metadata": {},
   "source": [
    "#### Do gridsearch for hyperparameters"
   ]
  },
  {
   "cell_type": "code",
   "execution_count": null,
   "id": "090aa354",
   "metadata": {},
   "outputs": [],
   "source": [
    "scorer = make_scorer(rmse_cycles, greater_is_better=False)\n",
    "cv = 5\n",
    "\n",
    "pipe_EN = Pipeline([('scaler', StandardScaler()), ('estimator', ElasticNet(max_iter=10000, tol=0.01))])\n",
    "params = {'l1_ratio': [0.1,0.3,0.5,0.7,0.9,0.95,0.99,1], 'alpha': [0.00001,0.0001,0.001, 0.01, 0.1, 0.5, 1.0, 10]}\n",
    "gs_en = GridSearchCV(pipe_EN[1], params, cv=cv, scoring=scorer)\n",
    "gs_en.fit(X, y)\n",
    "print(\"Best parameters for EN (CV score=%0.3f):\" % gs_en.best_score_)\n",
    "print(gs_en.best_params_)\n",
    "print(\"\")"
   ]
  },
  {
   "cell_type": "code",
   "execution_count": null,
   "id": "d97e84c4",
   "metadata": {},
   "outputs": [],
   "source": [
    "# k-fold cross-validation\n",
    "k = 10\n",
    "kfold = KFold(n_splits=k, shuffle=True)\n",
    "\n",
    "# Make pipeline\n",
    "pipe_EN = Pipeline([('scaler', StandardScaler()), ('estimator', ElasticNet(l1_ratio=0.5, alpha=0.0001, max_iter=10000, tol=0.001))])\n",
    "\n",
    "# Full model\n",
    "errors = np.zeros((k, 8)) # (# k-folds, # error metrics)\n",
    "i = 0\n",
    "for train_ind, test_ind in(kfold.split(X, y)):\n",
    "    X_train, X_test = X[train_ind], X[test_ind]\n",
    "    y_train, y_test = y[train_ind], y[test_ind]\n",
    "    \n",
    "    pipe_EN.fit(X_train, y_train)\n",
    "    prediction_train = pipe_EN.predict(X_train)\n",
    "    prediction_test = pipe_EN.predict(X_test)\n",
    "    \n",
    "    errors[i,:] = get_errors(y_train, y_test, prediction_train, prediction_test)\n",
    "    errors_table = pd.DataFrame({'MAE': [errors[i,0], errors[i,1]], 'RMSE CYCLES': [errors[i,2],errors[i,3]],\\\n",
    "                       'R2 SCORE': [errors[i,4],errors[i,5]] ,'MAPE': [errors[i,6],errors[i,7]]}, index=['train', 'test'])\n",
    "    \n",
    "    print(\"k = \", i)\n",
    "    display(errors_table)\n",
    "    \n",
    "    i+=1\n",
    "    \n",
    "    #print(pipe_EN[1].coef_)\n",
    "    #print(\"\")"
   ]
  },
  {
   "cell_type": "code",
   "execution_count": null,
   "id": "0f1ce94b",
   "metadata": {},
   "outputs": [],
   "source": [
    "print(\"\\n\\n\")\n",
    "print('Elastic Net model - Mean errors after cross-validation')\n",
    "errors = np.mean(errors, axis=0)\n",
    "errors_table = pd.DataFrame({'MAE': [errors[0], errors[1]], 'RMSE CYCLES': [errors[2],errors[3]],\\\n",
    "                       'R2 SCORE': [errors[4],errors[5]] ,'MAPE': [errors[6],errors[7]]}, index=['train', 'test'])\n",
    "display(errors_table)"
   ]
  },
  {
   "cell_type": "code",
   "execution_count": null,
   "id": "8eada8ea",
   "metadata": {},
   "outputs": [],
   "source": [
    "x_line = np.linspace(0,1700)\n",
    "y_line = np.linspace(0,1700)\n",
    "\n",
    "#plt.scatter(np.power(10,y_train), np.power(10,prediction_train), color='steelblue', s=10, label='train')\n",
    "plt.scatter(np.power(10,y_test), np.power(10,prediction_test), color='orange', marker='^', s=10, label='test')\n",
    "plt.plot(x_line,y_line, color='black', linewidth=0.5)\n",
    "plt.xlim(300,1700)\n",
    "plt.ylim(300,1700)\n",
    "plt.xticks([500,1000,1500])\n",
    "plt.yticks([500,1000,1500])\n",
    "plt.xlabel('observed cycle life')\n",
    "plt.ylabel('predicted cycle life')\n",
    "plt.legend()\n",
    "plt.title('EN model')"
   ]
  }
 ],
 "metadata": {
  "kernelspec": {
   "display_name": "Python 3",
   "language": "python",
   "name": "python3"
  },
  "language_info": {
   "codemirror_mode": {
    "name": "ipython",
    "version": 3
   },
   "file_extension": ".py",
   "mimetype": "text/x-python",
   "name": "python",
   "nbconvert_exporter": "python",
   "pygments_lexer": "ipython3",
   "version": "3.8.8"
  }
 },
 "nbformat": 4,
 "nbformat_minor": 5
}
