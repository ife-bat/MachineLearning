{
 "cells": [
  {
   "cell_type": "markdown",
   "id": "cae3333a",
   "metadata": {},
   "source": [
    "# Notebook for making interim IFE data\n",
    "\n",
    "_Since we need to relate cycling data to cycle life for each cell, it is practical to have all the data for each cell gathered in seperate directories._\n",
    "\n",
    "__Original data structure:__\n",
    "- \\cycles_data\n",
    "    - one summary file for every cell\n",
    "- \\curves_data\n",
    "    - one file for every charge and every discharge cycle for every cell\n",
    "\n",
    "\n",
    "__Data structure for interim data (in Github repository)__\n",
    "- \\interim\n",
    "    - \\cell 1\n",
    "        - summary file\n",
    "        - C20 cycles\n",
    "            - all C20 charge/discharge cycles (characterization cycles)\n",
    "    - \\cell 2\n",
    "    - ...\n",
    "\n",
    "\\\n",
    "\\\n",
    "\\\n",
    "Last edit: 06.04.22"
   ]
  },
  {
   "cell_type": "code",
   "execution_count": 26,
   "id": "20157754",
   "metadata": {},
   "outputs": [],
   "source": [
    "import pandas as pd\n",
    "import numpy as np\n",
    "import matplotlib.pyplot as plt\n",
    "import matplotlib as mpl\n",
    "import os, random\n",
    "import pathlib\n",
    "import glob\n",
    "import shutil\n",
    "\n",
    "pd.set_option('display.max_columns', 100)\n",
    "pd.set_option('display.max_rows', 100)"
   ]
  },
  {
   "cell_type": "markdown",
   "id": "594b9b6b",
   "metadata": {},
   "source": [
    "### Make interim data"
   ]
  },
  {
   "cell_type": "code",
   "execution_count": 89,
   "id": "072b9c01",
   "metadata": {},
   "outputs": [],
   "source": [
    "# Original paths\n",
    "curves_path = r\"C:\\Users\\ife12216\\OneDrive - Institutt for Energiteknikk\\Documents\\Masteroppgave\\IFEData\\LG_JP3\\curves_data\"\n",
    "cycles_path = r\"C:\\Users\\ife12216\\OneDrive - Institutt for Energiteknikk\\Documents\\Masteroppgave\\IFEData\\LG_JP3\\cycle_data\"\n",
    "\n",
    "# New path for interim data\n",
    "interim_path = r\"C:\\Users\\ife12216\\OneDrive - Institutt for Energiteknikk\\Documents\\Masteroppgave\\ML_github\\data\\IFE\\interim\"\n",
    "\n",
    "# List of cell-ids\n",
    "cell_id = []\n",
    "\n",
    "# Make cell directories if summary file contains more than 100 cycles (exclude shelf life cells)\n",
    "# Also add the summary file to the directory\n",
    "for filename in os.listdir(cycles_path):\n",
    "    f = os.path.join(cycles_path,filename)\n",
    "    df = pd.read_csv(f, encoding = \"ISO-8859-1\", sep='\\t')\n",
    "    if(len(df.index) > 500): # Gets rid of shelf-life cells\n",
    "        cell_id.append(filename[:18]) # add cell id to id-list\n",
    "        cell_path = os.path.join(interim_path, filename[:18]) # new path for summary file\n",
    "        \n",
    "        # make cell directory and copy summary file to it\n",
    "        if not(os.path.exists(cell_path)):\n",
    "            os.mkdir(cell_path)\n",
    "            shutil.copy(f, cell_path)\n",
    "\n",
    "\n",
    "# Make C20 cycles directory and add the cycles (its the 3rd cycle in each test that has characterization)\n",
    "for foldername in os.listdir(interim_path): # loop through cell directories\n",
    "    \n",
    "    # Make C20_cycles path\n",
    "    cell_dir = os.path.join(interim_path, foldername)\n",
    "    C20_dir = os.path.join(cell_dir, 'C20_cycles') \n",
    "    \n",
    "    # Find C20 cycles by looking at current from summary file\n",
    "    #summary_file = os.path.join(cell_dir, os.listdir(cell_dir)[1]) # 1 if c20_cycles folder is already made as first file\n",
    "    summary_file = glob.glob(os.path.join(cell_dir, '*' + 'Lot' + '*'))[0]\n",
    "    summary_df = pd.read_csv(summary_file, encoding = \"ISO-8859-1\", sep='\\t')\n",
    "    summary_c20_df = summary_df.loc[summary_df['Current_dch (C)'] == -0.05]\n",
    "    tasks = summary_c20_df['Tasks'].values # Unique tasks number for each test\n",
    "    \n",
    "    # Make C20_cycles directory and copy the C20 cycles to it if it does not exist already\n",
    "    if not(os.path.exists(C20_dir)):\n",
    "        os.mkdir(C20_dir)\n",
    "        for task in tasks:\n",
    "            for curve_file in(glob.glob(os.path.join(curves_path, '*' + str(task) + '_3*'))):\n",
    "                shutil.copy(curve_file, C20_dir)\n",
    "\n",
    "    # Find the 100th and 10th regular cycles and copy the files into the cell directory\n",
    "    task_c100 = summary_df.iloc[100]['Tasks']\n",
    "    cycle100_act = summary_df.iloc[100]['Cycle - actual']\n",
    "    task_c10 = summary_df.iloc[10]['Tasks']\n",
    "    cycle10_act = summary_df.iloc[10]['Cycle - actual']\n",
    "    for c100_file in(glob.glob(os.path.join(curves_path, '*' + str(task_c100) + '_' + str(cycle100_act) + '_dch.txt'))):\n",
    "        shutil.copy(c100_file, cell_dir)\n",
    "    for c10_file in(glob.glob(os.path.join(curves_path, '*' + str(task_c10) + '_' + str(cycle10_act) + '_dch.txt'))):\n",
    "        shutil.copy(c10_file, cell_dir)\n",
    "    "
   ]
  },
  {
   "cell_type": "markdown",
   "id": "b6d6f526",
   "metadata": {},
   "source": [
    "### Testing stuff"
   ]
  },
  {
   "cell_type": "code",
   "execution_count": 112,
   "id": "edaa6186",
   "metadata": {},
   "outputs": [
    {
     "name": "stdout",
     "output_type": "stream",
     "text": [
      "C:\\Users\\ife12216\\OneDrive - Institutt for Energiteknikk\\Documents\\Masteroppgave\\ML_github\\data\\IFE\\interim\\Cell_ID_SK04A14442\\Cell_ID_SK04A14442_Lot_557.txt\n",
      "True\n",
      "C:\\Users\\ife12216\\OneDrive - Institutt for Energiteknikk\\Documents\\Masteroppgave\\ML_github\\data\\IFE\\interim\\Cell_ID_SK04A20094\\Cell_ID_SK04A20094_Lot_550.txt\n",
      "True\n",
      "C:\\Users\\ife12216\\OneDrive - Institutt for Energiteknikk\\Documents\\Masteroppgave\\ML_github\\data\\IFE\\interim\\Cell_ID_SK04A20099\\Cell_ID_SK04A20099_Lot_549.txt\n",
      "True\n",
      "C:\\Users\\ife12216\\OneDrive - Institutt for Energiteknikk\\Documents\\Masteroppgave\\ML_github\\data\\IFE\\interim\\Cell_ID_SK04A20110\\Cell_ID_SK04A20110_Lot_546.txt\n",
      "True\n",
      "C:\\Users\\ife12216\\OneDrive - Institutt for Energiteknikk\\Documents\\Masteroppgave\\ML_github\\data\\IFE\\interim\\Cell_ID_SK04A22375\\Cell_ID_SK04A22375_Lot_545.txt\n",
      "True\n",
      "C:\\Users\\ife12216\\OneDrive - Institutt for Energiteknikk\\Documents\\Masteroppgave\\ML_github\\data\\IFE\\interim\\Cell_ID_SK04A23557\\Cell_ID_SK04A23557_Lot_560.txt\n",
      "True\n",
      "C:\\Users\\ife12216\\OneDrive - Institutt for Energiteknikk\\Documents\\Masteroppgave\\ML_github\\data\\IFE\\interim\\Cell_ID_SK04A27576\\Cell_ID_SK04A27576_Lot_564.txt\n",
      "True\n",
      "C:\\Users\\ife12216\\OneDrive - Institutt for Energiteknikk\\Documents\\Masteroppgave\\ML_github\\data\\IFE\\interim\\Cell_ID_SK04A2A568\\Cell_ID_SK04A2A568_Lot_563.txt\n",
      "True\n",
      "C:\\Users\\ife12216\\OneDrive - Institutt for Energiteknikk\\Documents\\Masteroppgave\\ML_github\\data\\IFE\\interim\\Cell_ID_SK04A2B589\\Cell_ID_SK04A2B589_Lot_541.txt\n",
      "True\n",
      "C:\\Users\\ife12216\\OneDrive - Institutt for Energiteknikk\\Documents\\Masteroppgave\\ML_github\\data\\IFE\\interim\\Cell_ID_SK04A2B688\\Cell_ID_SK04A2B688_Lot_579.txt\n",
      "True\n",
      "C:\\Users\\ife12216\\OneDrive - Institutt for Energiteknikk\\Documents\\Masteroppgave\\ML_github\\data\\IFE\\interim\\Cell_ID_SK04A2B993\\Cell_ID_SK04A2B993_Lot_592.txt\n",
      "True\n",
      "C:\\Users\\ife12216\\OneDrive - Institutt for Energiteknikk\\Documents\\Masteroppgave\\ML_github\\data\\IFE\\interim\\Cell_ID_SK04A2C081\\Cell_ID_SK04A2C081_Lot_521.txt\n",
      "True\n",
      "C:\\Users\\ife12216\\OneDrive - Institutt for Energiteknikk\\Documents\\Masteroppgave\\ML_github\\data\\IFE\\interim\\Cell_ID_SK04A2C085\\Cell_ID_SK04A2C085_Lot_533.txt\n",
      "True\n",
      "C:\\Users\\ife12216\\OneDrive - Institutt for Energiteknikk\\Documents\\Masteroppgave\\ML_github\\data\\IFE\\interim\\Cell_ID_SK04A2C204\\Cell_ID_SK04A2C204_Lot_524.txt\n",
      "True\n",
      "C:\\Users\\ife12216\\OneDrive - Institutt for Energiteknikk\\Documents\\Masteroppgave\\ML_github\\data\\IFE\\interim\\Cell_ID_SK04A2C208\\Cell_ID_SK04A2C208_Lot_536.txt\n",
      "True\n",
      "C:\\Users\\ife12216\\OneDrive - Institutt for Energiteknikk\\Documents\\Masteroppgave\\ML_github\\data\\IFE\\interim\\Cell_ID_SK04A2C212\\Cell_ID_SK04A2C212_Lot_535.txt\n",
      "True\n",
      "C:\\Users\\ife12216\\OneDrive - Institutt for Energiteknikk\\Documents\\Masteroppgave\\ML_github\\data\\IFE\\interim\\Cell_ID_SK04A2C604\\Cell_ID_SK04A2C604_Lot_593.txt\n",
      "True\n",
      "C:\\Users\\ife12216\\OneDrive - Institutt for Energiteknikk\\Documents\\Masteroppgave\\ML_github\\data\\IFE\\interim\\Cell_ID_SK04A2C614\\Cell_ID_SK04A2C614_Lot_594.txt\n",
      "True\n",
      "C:\\Users\\ife12216\\OneDrive - Institutt for Energiteknikk\\Documents\\Masteroppgave\\ML_github\\data\\IFE\\interim\\Cell_ID_SK04A2C915\\Cell_ID_SK04A2C915_Lot_540.txt\n",
      "True\n",
      "C:\\Users\\ife12216\\OneDrive - Institutt for Energiteknikk\\Documents\\Masteroppgave\\ML_github\\data\\IFE\\interim\\Cell_ID_SK04A2D001\\Cell_ID_SK04A2D001_Lot_522.txt\n",
      "True\n",
      "C:\\Users\\ife12216\\OneDrive - Institutt for Energiteknikk\\Documents\\Masteroppgave\\ML_github\\data\\IFE\\interim\\Cell_ID_SK04A2D007\\Cell_ID_SK04A2D007_Lot_537.txt\n",
      "True\n",
      "C:\\Users\\ife12216\\OneDrive - Institutt for Energiteknikk\\Documents\\Masteroppgave\\ML_github\\data\\IFE\\interim\\Cell_ID_SK04A2D012\\Cell_ID_SK04A2D012_Lot_534.txt\n",
      "True\n",
      "C:\\Users\\ife12216\\OneDrive - Institutt for Energiteknikk\\Documents\\Masteroppgave\\ML_github\\data\\IFE\\interim\\Cell_ID_SK04A2D030\\Cell_ID_SK04A2D030_Lot_539.txt\n",
      "True\n",
      "C:\\Users\\ife12216\\OneDrive - Institutt for Energiteknikk\\Documents\\Masteroppgave\\ML_github\\data\\IFE\\interim\\Cell_ID_SK04A2D112\\Cell_ID_SK04A2D112_Lot_532.txt\n",
      "True\n",
      "C:\\Users\\ife12216\\OneDrive - Institutt for Energiteknikk\\Documents\\Masteroppgave\\ML_github\\data\\IFE\\interim\\Cell_ID_SK05A11658\\Cell_ID_SK05A11658_Lot_484.txt\n",
      "True\n",
      "C:\\Users\\ife12216\\OneDrive - Institutt for Energiteknikk\\Documents\\Masteroppgave\\ML_github\\data\\IFE\\interim\\Cell_ID_SK05A11661\\Cell_ID_SK05A11661_Lot_488.txt\n",
      "True\n",
      "C:\\Users\\ife12216\\OneDrive - Institutt for Energiteknikk\\Documents\\Masteroppgave\\ML_github\\data\\IFE\\interim\\Cell_ID_SK05A11669\\Cell_ID_SK05A11669_Lot_486.txt\n",
      "True\n",
      "C:\\Users\\ife12216\\OneDrive - Institutt for Energiteknikk\\Documents\\Masteroppgave\\ML_github\\data\\IFE\\interim\\Cell_ID_SK05A11675\\Cell_ID_SK05A11675_Lot_483.txt\n",
      "True\n",
      "C:\\Users\\ife12216\\OneDrive - Institutt for Energiteknikk\\Documents\\Masteroppgave\\ML_github\\data\\IFE\\interim\\Cell_ID_SK05A13733\\Cell_ID_SK05A13733_Lot_471.txt\n",
      "True\n",
      "C:\\Users\\ife12216\\OneDrive - Institutt for Energiteknikk\\Documents\\Masteroppgave\\ML_github\\data\\IFE\\interim\\Cell_ID_SK05A14198\\Cell_ID_SK05A14198_Lot_472.txt\n"
     ]
    },
    {
     "ename": "IndexError",
     "evalue": "list index out of range",
     "output_type": "error",
     "traceback": [
      "\u001b[1;31m---------------------------------------------------------------------------\u001b[0m",
      "\u001b[1;31mIndexError\u001b[0m                                Traceback (most recent call last)",
      "\u001b[1;32m<ipython-input-112-ca93d2778819>\u001b[0m in \u001b[0;36m<module>\u001b[1;34m\u001b[0m\n\u001b[0;32m     12\u001b[0m     \u001b[0mcycle10_act\u001b[0m \u001b[1;33m=\u001b[0m \u001b[0msummary_df\u001b[0m\u001b[1;33m.\u001b[0m\u001b[0miloc\u001b[0m\u001b[1;33m[\u001b[0m\u001b[1;36m10\u001b[0m\u001b[1;33m]\u001b[0m\u001b[1;33m[\u001b[0m\u001b[1;34m'Cycle - actual'\u001b[0m\u001b[1;33m]\u001b[0m\u001b[1;33m\u001b[0m\u001b[1;33m\u001b[0m\u001b[0m\n\u001b[0;32m     13\u001b[0m     \u001b[1;31m#cycle = pd.read_csv(, encoding = \"ISO-8859-1\", sep='\\t')\u001b[0m\u001b[1;33m\u001b[0m\u001b[1;33m\u001b[0m\u001b[1;33m\u001b[0m\u001b[0m\n\u001b[1;32m---> 14\u001b[1;33m     \u001b[0mc100_file\u001b[0m \u001b[1;33m=\u001b[0m \u001b[0mglob\u001b[0m\u001b[1;33m.\u001b[0m\u001b[0mglob\u001b[0m\u001b[1;33m(\u001b[0m\u001b[0mos\u001b[0m\u001b[1;33m.\u001b[0m\u001b[0mpath\u001b[0m\u001b[1;33m.\u001b[0m\u001b[0mjoin\u001b[0m\u001b[1;33m(\u001b[0m\u001b[0mcurves_path\u001b[0m\u001b[1;33m,\u001b[0m \u001b[1;34m'*'\u001b[0m \u001b[1;33m+\u001b[0m \u001b[0mstr\u001b[0m\u001b[1;33m(\u001b[0m\u001b[0mtask_c100\u001b[0m\u001b[1;33m)\u001b[0m \u001b[1;33m+\u001b[0m \u001b[1;34m'_'\u001b[0m \u001b[1;33m+\u001b[0m \u001b[0mstr\u001b[0m\u001b[1;33m(\u001b[0m\u001b[0mcycle100_act\u001b[0m\u001b[1;33m)\u001b[0m \u001b[1;33m+\u001b[0m \u001b[1;34m'_dch.txt'\u001b[0m\u001b[1;33m)\u001b[0m\u001b[1;33m)\u001b[0m\u001b[1;33m[\u001b[0m\u001b[1;36m0\u001b[0m\u001b[1;33m]\u001b[0m \u001b[1;31m# *57377_23*\u001b[0m\u001b[1;33m\u001b[0m\u001b[1;33m\u001b[0m\u001b[0m\n\u001b[0m\u001b[0;32m     15\u001b[0m     \u001b[0mprint\u001b[0m\u001b[1;33m(\u001b[0m\u001b[0mpathlib\u001b[0m\u001b[1;33m.\u001b[0m\u001b[0mPath\u001b[0m\u001b[1;33m(\u001b[0m\u001b[0mc100_file\u001b[0m\u001b[1;33m)\u001b[0m\u001b[1;33m.\u001b[0m\u001b[0mis_file\u001b[0m\u001b[1;33m(\u001b[0m\u001b[1;33m)\u001b[0m\u001b[1;33m)\u001b[0m\u001b[1;33m\u001b[0m\u001b[1;33m\u001b[0m\u001b[0m\n",
      "\u001b[1;31mIndexError\u001b[0m: list index out of range"
     ]
    }
   ],
   "source": [
    "curves_path = r\"C:\\Users\\ife12216\\OneDrive - Institutt for Energiteknikk\\Documents\\Masteroppgave\\IFEData\\LG_JP3\\curves_data\"\n",
    "\n",
    "for foldername in os.listdir(interim_path): # loop through cell directories\n",
    "    # Make C20_cycles path\n",
    "    cell_dir = os.path.join(interim_path, foldername)\n",
    "    summary_file = os.path.join(cell_dir, os.listdir(cell_dir)[1])\n",
    "    summary_df = pd.read_csv(summary_file, encoding = \"ISO-8859-1\", sep='\\t')\n",
    "    task_c100 = summary_df.iloc[101]['Tasks']\n",
    "    cycle100_act = summary_df.iloc[101]['Cycle - actual']\n",
    "    print(summary_file)\n",
    "    task_c10 = summary_df.iloc[10]['Tasks']\n",
    "    cycle10_act = summary_df.iloc[10]['Cycle - actual']\n",
    "    #cycle = pd.read_csv(, encoding = \"ISO-8859-1\", sep='\\t')\n",
    "    c100_file = glob.glob(os.path.join(curves_path, '*' + str(task_c100) + '_' + str(cycle100_act) + '_dch.txt'))[0]\n",
    "    print(pathlib.Path(c100_file).is_file())"
   ]
  },
  {
   "cell_type": "code",
   "execution_count": 104,
   "id": "e79246fa",
   "metadata": {},
   "outputs": [
    {
     "name": "stdout",
     "output_type": "stream",
     "text": [
      "13504\n",
      "5\n",
      "True\n"
     ]
    },
    {
     "ename": "IndexError",
     "evalue": "list index out of range",
     "output_type": "error",
     "traceback": [
      "\u001b[1;31m---------------------------------------------------------------------------\u001b[0m",
      "\u001b[1;31mIndexError\u001b[0m                                Traceback (most recent call last)",
      "\u001b[1;32m<ipython-input-104-a6559517ad1d>\u001b[0m in \u001b[0;36m<module>\u001b[1;34m\u001b[0m\n\u001b[0;32m     11\u001b[0m \u001b[0mc100_file\u001b[0m \u001b[1;33m=\u001b[0m \u001b[0mglob\u001b[0m\u001b[1;33m.\u001b[0m\u001b[0mglob\u001b[0m\u001b[1;33m(\u001b[0m\u001b[0mos\u001b[0m\u001b[1;33m.\u001b[0m\u001b[0mpath\u001b[0m\u001b[1;33m.\u001b[0m\u001b[0mjoin\u001b[0m\u001b[1;33m(\u001b[0m\u001b[0mcurves_path\u001b[0m\u001b[1;33m,\u001b[0m \u001b[1;34m'*'\u001b[0m \u001b[1;33m+\u001b[0m \u001b[0mstr\u001b[0m\u001b[1;33m(\u001b[0m\u001b[0mtask_c100\u001b[0m\u001b[1;33m)\u001b[0m \u001b[1;33m+\u001b[0m \u001b[1;34m'_'\u001b[0m \u001b[1;33m+\u001b[0m \u001b[0mstr\u001b[0m\u001b[1;33m(\u001b[0m\u001b[0mcycle100_act\u001b[0m\u001b[1;33m)\u001b[0m \u001b[1;33m+\u001b[0m \u001b[1;34m'_dch.txt'\u001b[0m\u001b[1;33m)\u001b[0m\u001b[1;33m)\u001b[0m\u001b[1;33m[\u001b[0m\u001b[1;36m0\u001b[0m\u001b[1;33m]\u001b[0m \u001b[1;31m# *57377_23*\u001b[0m\u001b[1;33m\u001b[0m\u001b[1;33m\u001b[0m\u001b[0m\n\u001b[0;32m     12\u001b[0m \u001b[0mprint\u001b[0m\u001b[1;33m(\u001b[0m\u001b[0mpathlib\u001b[0m\u001b[1;33m.\u001b[0m\u001b[0mPath\u001b[0m\u001b[1;33m(\u001b[0m\u001b[0mc100_file\u001b[0m\u001b[1;33m)\u001b[0m\u001b[1;33m.\u001b[0m\u001b[0mis_file\u001b[0m\u001b[1;33m(\u001b[0m\u001b[1;33m)\u001b[0m\u001b[1;33m)\u001b[0m\u001b[1;33m\u001b[0m\u001b[1;33m\u001b[0m\u001b[0m\n\u001b[1;32m---> 13\u001b[1;33m \u001b[0mc10_file\u001b[0m \u001b[1;33m=\u001b[0m \u001b[0mglob\u001b[0m\u001b[1;33m.\u001b[0m\u001b[0mglob\u001b[0m\u001b[1;33m(\u001b[0m\u001b[0mos\u001b[0m\u001b[1;33m.\u001b[0m\u001b[0mpath\u001b[0m\u001b[1;33m.\u001b[0m\u001b[0mjoin\u001b[0m\u001b[1;33m(\u001b[0m\u001b[0mcurves_path\u001b[0m\u001b[1;33m,\u001b[0m \u001b[1;34m'*'\u001b[0m \u001b[1;33m+\u001b[0m \u001b[0mstr\u001b[0m\u001b[1;33m(\u001b[0m\u001b[0mtask_c10\u001b[0m\u001b[1;33m)\u001b[0m \u001b[1;33m+\u001b[0m \u001b[1;34m'_'\u001b[0m \u001b[1;33m+\u001b[0m \u001b[0mstr\u001b[0m\u001b[1;33m(\u001b[0m\u001b[0mcycle10_act\u001b[0m\u001b[1;33m)\u001b[0m \u001b[1;33m+\u001b[0m \u001b[1;34m'_dch.txt'\u001b[0m\u001b[1;33m)\u001b[0m\u001b[1;33m)\u001b[0m\u001b[1;33m[\u001b[0m\u001b[1;36m0\u001b[0m\u001b[1;33m]\u001b[0m \u001b[1;31m# *57377_23*\u001b[0m\u001b[1;33m\u001b[0m\u001b[1;33m\u001b[0m\u001b[0m\n\u001b[0m\u001b[0;32m     14\u001b[0m \u001b[0mprint\u001b[0m\u001b[1;33m(\u001b[0m\u001b[0mpathlib\u001b[0m\u001b[1;33m.\u001b[0m\u001b[0mPath\u001b[0m\u001b[1;33m(\u001b[0m\u001b[0mc10_file\u001b[0m\u001b[1;33m)\u001b[0m\u001b[1;33m.\u001b[0m\u001b[0mis_file\u001b[0m\u001b[1;33m(\u001b[0m\u001b[1;33m)\u001b[0m\u001b[1;33m)\u001b[0m\u001b[1;33m\u001b[0m\u001b[1;33m\u001b[0m\u001b[0m\n",
      "\u001b[1;31mIndexError\u001b[0m: list index out of range"
     ]
    }
   ],
   "source": [
    "cell = r\"C:\\Users\\ife12216\\OneDrive - Institutt for Energiteknikk\\Documents\\Masteroppgave\\ML_github\\data\\IFE\\interim\\Cell_ID_SK05A11669\"\n",
    "\n",
    "summary_file = os.path.join(cell, os.listdir(cell)[1])\n",
    "summary_df = pd.read_csv(summary_file, encoding = \"ISO-8859-1\", sep='\\t')\n",
    "task_c100 = summary_df.iloc[100]['Tasks']\n",
    "cycle100_act = summary_df.iloc[100]['Cycle - actual']\n",
    "task_c10 = summary_df.iloc[10]['Tasks']\n",
    "cycle10_act = summary_df.iloc[10]['Cycle - actual']\n",
    "print(task_c10)\n",
    "print(cycle10_act)\n",
    "c100_file = glob.glob(os.path.join(curves_path, '*' + str(task_c100) + '_' + str(cycle100_act) + '_dch.txt'))[0] # *57377_23*\n",
    "print(pathlib.Path(c100_file).is_file())\n",
    "c10_file = glob.glob(os.path.join(curves_path, '*' + str(task_c10) + '_' + str(cycle10_act) + '_dch.txt'))[0] # *57377_23*\n",
    "print(pathlib.Path(c10_file).is_file())"
   ]
  }
 ],
 "metadata": {
  "kernelspec": {
   "display_name": "Python 3",
   "language": "python",
   "name": "python3"
  },
  "language_info": {
   "codemirror_mode": {
    "name": "ipython",
    "version": 3
   },
   "file_extension": ".py",
   "mimetype": "text/x-python",
   "name": "python",
   "nbconvert_exporter": "python",
   "pygments_lexer": "ipython3",
   "version": "3.8.8"
  }
 },
 "nbformat": 4,
 "nbformat_minor": 5
}
