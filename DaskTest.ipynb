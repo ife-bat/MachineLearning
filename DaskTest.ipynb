{
 "cells": [
  {
   "cell_type": "code",
   "execution_count": 1,
   "id": "566cdefb",
   "metadata": {},
   "outputs": [],
   "source": [
    "import pathlib\n",
    "from sklearn.preprocessing import MinMaxScaler\n",
    "from sklearn.preprocessing import minmax_scale\n",
    "from sklearn.preprocessing import StandardScaler\n",
    "import matplotlib as mpl\n",
    "import matplotlib.pyplot as plt\n",
    "import pandas as pd\n",
    "import os, random\n",
    "import numpy as np\n",
    "import statistics\n",
    "import dask.dataframe as dd"
   ]
  },
  {
   "cell_type": "code",
   "execution_count": 55,
   "id": "57b6933a",
   "metadata": {},
   "outputs": [
    {
     "data": {
      "text/plain": [
       "True"
      ]
     },
     "execution_count": 55,
     "metadata": {},
     "output_type": "execute_result"
    }
   ],
   "source": [
    "testfile = pathlib.Path(r\"C:\\Users\\ife12216\\OneDrive - Institutt for Energiteknikk\\Documents\\Masteroppgave\\MLData\") / \"FastCharge_000007_CH39_structure.json\"\n",
    "testfile.is_file()"
   ]
  },
  {
   "cell_type": "code",
   "execution_count": 58,
   "id": "2f849917",
   "metadata": {},
   "outputs": [],
   "source": [
    "df_pandas = pd.read_json(testfile)"
   ]
  },
  {
   "cell_type": "code",
   "execution_count": 56,
   "id": "319e7620",
   "metadata": {},
   "outputs": [],
   "source": [
    "df = dd.read_json(testfile)"
   ]
  },
  {
   "cell_type": "code",
   "execution_count": 61,
   "id": "8f37bfc4",
   "metadata": {},
   "outputs": [
    {
     "data": {
      "text/html": [
       "<div>\n",
       "<style scoped>\n",
       "    .dataframe tbody tr th:only-of-type {\n",
       "        vertical-align: middle;\n",
       "    }\n",
       "\n",
       "    .dataframe tbody tr th {\n",
       "        vertical-align: top;\n",
       "    }\n",
       "\n",
       "    .dataframe thead th {\n",
       "        text-align: right;\n",
       "    }\n",
       "</style>\n",
       "<table border=\"1\" class=\"dataframe\">\n",
       "  <thead>\n",
       "    <tr style=\"text-align: right;\">\n",
       "      <th></th>\n",
       "      <th>@module</th>\n",
       "      <th>@class</th>\n",
       "      <th>barcode</th>\n",
       "      <th>protocol</th>\n",
       "      <th>channel_id</th>\n",
       "      <th>summary</th>\n",
       "      <th>cycles_interpolated</th>\n",
       "      <th>diagnostic_summary</th>\n",
       "      <th>diagnostic_interpolated</th>\n",
       "      <th>@version</th>\n",
       "    </tr>\n",
       "  </thead>\n",
       "  <tbody>\n",
       "    <tr>\n",
       "      <th>cycle_index</th>\n",
       "      <td>beep.structure</td>\n",
       "      <td>ProcessedCyclerRun</td>\n",
       "      <td>el150800737320</td>\n",
       "      <td>2018-04-12_batch8\\20180412-5_9C_15per_4_6C_new...</td>\n",
       "      <td>38</td>\n",
       "      <td>[0, 1, 2, 3, 4, 5, 6, 7, 8, 9, 10, 11, 12, 13,...</td>\n",
       "      <td>[0, 0, 0, 0, 0, 0, 0, 0, 0, 0, 0, 0, 0, 0, 0, ...</td>\n",
       "      <td>NaN</td>\n",
       "      <td>NaN</td>\n",
       "      <td>2020.10.19.20-8667111</td>\n",
       "    </tr>\n",
       "    <tr>\n",
       "      <th>discharge_capacity</th>\n",
       "      <td>beep.structure</td>\n",
       "      <td>ProcessedCyclerRun</td>\n",
       "      <td>el150800737320</td>\n",
       "      <td>2018-04-12_batch8\\20180412-5_9C_15per_4_6C_new...</td>\n",
       "      <td>38</td>\n",
       "      <td>[1.5537410999999999, 1.0652004, 1.0663688, 1.0...</td>\n",
       "      <td>[1.239493058590234, 1.356596500246578, 1.47369...</td>\n",
       "      <td>NaN</td>\n",
       "      <td>NaN</td>\n",
       "      <td>2020.10.19.20-8667111</td>\n",
       "    </tr>\n",
       "    <tr>\n",
       "      <th>charge_capacity</th>\n",
       "      <td>beep.structure</td>\n",
       "      <td>ProcessedCyclerRun</td>\n",
       "      <td>el150800737320</td>\n",
       "      <td>2018-04-12_batch8\\20180412-5_9C_15per_4_6C_new...</td>\n",
       "      <td>38</td>\n",
       "      <td>[1.063142499999999, 1.064750399999999, 1.06594...</td>\n",
       "      <td>[0.811714026408144, 0.933594370952411, 1.05547...</td>\n",
       "      <td>NaN</td>\n",
       "      <td>NaN</td>\n",
       "      <td>2020.10.19.20-8667111</td>\n",
       "    </tr>\n",
       "  </tbody>\n",
       "</table>\n",
       "</div>"
      ],
      "text/plain": [
       "                           @module              @class         barcode  \\\n",
       "cycle_index         beep.structure  ProcessedCyclerRun  el150800737320   \n",
       "discharge_capacity  beep.structure  ProcessedCyclerRun  el150800737320   \n",
       "charge_capacity     beep.structure  ProcessedCyclerRun  el150800737320   \n",
       "\n",
       "                                                             protocol  \\\n",
       "cycle_index         2018-04-12_batch8\\20180412-5_9C_15per_4_6C_new...   \n",
       "discharge_capacity  2018-04-12_batch8\\20180412-5_9C_15per_4_6C_new...   \n",
       "charge_capacity     2018-04-12_batch8\\20180412-5_9C_15per_4_6C_new...   \n",
       "\n",
       "                    channel_id  \\\n",
       "cycle_index                 38   \n",
       "discharge_capacity          38   \n",
       "charge_capacity             38   \n",
       "\n",
       "                                                              summary  \\\n",
       "cycle_index         [0, 1, 2, 3, 4, 5, 6, 7, 8, 9, 10, 11, 12, 13,...   \n",
       "discharge_capacity  [1.5537410999999999, 1.0652004, 1.0663688, 1.0...   \n",
       "charge_capacity     [1.063142499999999, 1.064750399999999, 1.06594...   \n",
       "\n",
       "                                                  cycles_interpolated  \\\n",
       "cycle_index         [0, 0, 0, 0, 0, 0, 0, 0, 0, 0, 0, 0, 0, 0, 0, ...   \n",
       "discharge_capacity  [1.239493058590234, 1.356596500246578, 1.47369...   \n",
       "charge_capacity     [0.811714026408144, 0.933594370952411, 1.05547...   \n",
       "\n",
       "                    diagnostic_summary  diagnostic_interpolated  \\\n",
       "cycle_index                        NaN                      NaN   \n",
       "discharge_capacity                 NaN                      NaN   \n",
       "charge_capacity                    NaN                      NaN   \n",
       "\n",
       "                                 @version  \n",
       "cycle_index         2020.10.19.20-8667111  \n",
       "discharge_capacity  2020.10.19.20-8667111  \n",
       "charge_capacity     2020.10.19.20-8667111  "
      ]
     },
     "execution_count": 61,
     "metadata": {},
     "output_type": "execute_result"
    }
   ],
   "source": [
    "df_pandas.head(3)"
   ]
  },
  {
   "cell_type": "code",
   "execution_count": 57,
   "id": "f9b17115",
   "metadata": {},
   "outputs": [
    {
     "data": {
      "text/html": [
       "<div><strong>Dask DataFrame Structure:</strong></div>\n",
       "<div>\n",
       "<style scoped>\n",
       "    .dataframe tbody tr th:only-of-type {\n",
       "        vertical-align: middle;\n",
       "    }\n",
       "\n",
       "    .dataframe tbody tr th {\n",
       "        vertical-align: top;\n",
       "    }\n",
       "\n",
       "    .dataframe thead th {\n",
       "        text-align: right;\n",
       "    }\n",
       "</style>\n",
       "<table border=\"1\" class=\"dataframe\">\n",
       "  <thead>\n",
       "    <tr style=\"text-align: right;\">\n",
       "      <th></th>\n",
       "      <th>@module</th>\n",
       "      <th>@class</th>\n",
       "      <th>barcode</th>\n",
       "      <th>protocol</th>\n",
       "      <th>channel_id</th>\n",
       "      <th>summary</th>\n",
       "      <th>cycles_interpolated</th>\n",
       "      <th>diagnostic_summary</th>\n",
       "      <th>diagnostic_interpolated</th>\n",
       "      <th>@version</th>\n",
       "    </tr>\n",
       "    <tr>\n",
       "      <th>npartitions=1</th>\n",
       "      <th></th>\n",
       "      <th></th>\n",
       "      <th></th>\n",
       "      <th></th>\n",
       "      <th></th>\n",
       "      <th></th>\n",
       "      <th></th>\n",
       "      <th></th>\n",
       "      <th></th>\n",
       "      <th></th>\n",
       "    </tr>\n",
       "  </thead>\n",
       "  <tbody>\n",
       "    <tr>\n",
       "      <th></th>\n",
       "      <td>object</td>\n",
       "      <td>object</td>\n",
       "      <td>object</td>\n",
       "      <td>object</td>\n",
       "      <td>int64</td>\n",
       "      <td>object</td>\n",
       "      <td>object</td>\n",
       "      <td>float64</td>\n",
       "      <td>float64</td>\n",
       "      <td>object</td>\n",
       "    </tr>\n",
       "    <tr>\n",
       "      <th></th>\n",
       "      <td>...</td>\n",
       "      <td>...</td>\n",
       "      <td>...</td>\n",
       "      <td>...</td>\n",
       "      <td>...</td>\n",
       "      <td>...</td>\n",
       "      <td>...</td>\n",
       "      <td>...</td>\n",
       "      <td>...</td>\n",
       "      <td>...</td>\n",
       "    </tr>\n",
       "  </tbody>\n",
       "</table>\n",
       "</div>\n",
       "<div>Dask Name: from-delayed, 2 tasks</div>"
      ],
      "text/plain": [
       "Dask DataFrame Structure:\n",
       "              @module  @class barcode protocol channel_id summary cycles_interpolated diagnostic_summary diagnostic_interpolated @version\n",
       "npartitions=1                                                                                                                            \n",
       "               object  object  object   object      int64  object              object            float64                 float64   object\n",
       "                  ...     ...     ...      ...        ...     ...                 ...                ...                     ...      ...\n",
       "Dask Name: from-delayed, 2 tasks"
      ]
     },
     "execution_count": 57,
     "metadata": {},
     "output_type": "execute_result"
    }
   ],
   "source": [
    "df"
   ]
  }
 ],
 "metadata": {
  "kernelspec": {
   "display_name": "Python 3",
   "language": "python",
   "name": "python3"
  },
  "language_info": {
   "codemirror_mode": {
    "name": "ipython",
    "version": 3
   },
   "file_extension": ".py",
   "mimetype": "text/x-python",
   "name": "python",
   "nbconvert_exporter": "python",
   "pygments_lexer": "ipython3",
   "version": "3.8.8"
  }
 },
 "nbformat": 4,
 "nbformat_minor": 5
}
