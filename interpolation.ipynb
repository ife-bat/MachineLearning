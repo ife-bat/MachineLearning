{
 "cells": [
  {
   "cell_type": "code",
   "execution_count": 1,
   "id": "1096d1c5",
   "metadata": {},
   "outputs": [],
   "source": [
    "import pandas as pd\n",
    "import numpy as np\n",
    "import matplotlib.pyplot as plt\n",
    "import matplotlib as mpl\n",
    "import os, random\n",
    "import pathlib\n",
    "import glob\n",
    "\n",
    "pd.set_option('display.max_columns', 100)"
   ]
  },
  {
   "cell_type": "code",
   "execution_count": 5,
   "id": "4c7248b4",
   "metadata": {},
   "outputs": [
    {
     "name": "stdout",
     "output_type": "stream",
     "text": [
      "388\n",
      "302\n",
      "371\n",
      "206\n",
      "220\n",
      "388\n",
      "391\n",
      "29\n",
      "390\n",
      "98\n",
      "389\n",
      "207\n",
      "380\n",
      "313\n",
      "312\n",
      "390\n",
      "371\n",
      "310\n",
      "154\n",
      "369\n",
      "302\n",
      "392\n",
      "388\n",
      "81\n",
      "388\n",
      "378\n",
      "388\n",
      "206\n",
      "198\n",
      "206\n",
      "388\n",
      "83\n",
      "381\n",
      "389\n",
      "388\n",
      "393\n",
      "383\n"
     ]
    },
    {
     "data": {
      "text/plain": [
       "37"
      ]
     },
     "execution_count": 5,
     "metadata": {},
     "output_type": "execute_result"
    }
   ],
   "source": [
    "path_cells = r\"C:\\Users\\ife12216\\OneDrive - Institutt for Energiteknikk\\Documents\\Masteroppgave\\ML_github\\data\\IFE\\interim\"\n",
    "cell_dict = {}\n",
    "exclude = ['Cell_ID_SK04A2C085', 'Cell_ID_SK05A11669', 'Cell_ID_SK05A11675', 'Cell_ID_SK05A14198', 'Cell_ID_SK05A15215',\\\n",
    "          'Cell_ID_SK05A30027', 'Cell_ID_SK05A30040', 'Cell_ID_SK04A2D001']\n",
    "\n",
    "for cell in os.listdir(path_cells):\n",
    "    if(cell not in exclude):\n",
    "        # Make summary dataframes\n",
    "        cell_dir = os.path.join(path_cells, cell)\n",
    "        summary_file = os.path.join(cell_dir, os.listdir(cell_dir)[1])\n",
    "        summary_df = pd.read_csv(summary_file, encoding = \"ISO-8859-1\", sep='\\t')\n",
    "\n",
    "        cycle100_act = summary_df.iloc[100]['Cycle - actual']\n",
    "        cycle10_act = summary_df.iloc[10]['Cycle - actual']\n",
    "\n",
    "        cell_dict[cell] = {}\n",
    "\n",
    "        c100_file = glob.glob(os.path.join(cell_dir, '*' + str(cycle100_act) + '_dch.txt'))[0]\n",
    "        c100_df = pd.read_csv(c100_file, encoding = \"ISO-8859-1\", sep='\\t')\n",
    "\n",
    "        cell_dict[cell]['summary'] = summary_df\n",
    "        cell_dict[cell]['c100'] = c100_df\n",
    "        \n",
    "        print(len(cell_dict[cell]['c100']))\n",
    "    \n",
    "\n",
    "len(cell_dict.keys())"
   ]
  },
  {
   "cell_type": "code",
   "execution_count": null,
   "id": "3e3d4fd0",
   "metadata": {},
   "outputs": [],
   "source": []
  }
 ],
 "metadata": {
  "kernelspec": {
   "display_name": "Python 3",
   "language": "python",
   "name": "python3"
  },
  "language_info": {
   "codemirror_mode": {
    "name": "ipython",
    "version": 3
   },
   "file_extension": ".py",
   "mimetype": "text/x-python",
   "name": "python",
   "nbconvert_exporter": "python",
   "pygments_lexer": "ipython3",
   "version": "3.8.8"
  }
 },
 "nbformat": 4,
 "nbformat_minor": 5
}
