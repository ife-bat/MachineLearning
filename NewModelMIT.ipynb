{
 "cells": [
  {
   "cell_type": "markdown",
   "id": "5c64838d",
   "metadata": {},
   "source": [
    "# Machine Learning Pipeline for cycle life prediction\n",
    "\n",
    "last edit: 28.03.2022\n",
    "\n",
    "This Notebook reads in data from processed files, generates model features, and makes pipelines for different machine learning models for predicting cycle life. "
   ]
  },
  {
   "cell_type": "code",
   "execution_count": 1,
   "id": "26ff6364",
   "metadata": {},
   "outputs": [],
   "source": [
    "import pandas as pd\n",
    "import numpy as np\n",
    "import matplotlib.pyplot as plt\n",
    "import matplotlib.style\n",
    "import os, random\n",
    "\n",
    "from scipy.stats import skew, kurtosis, iqr\n",
    "\n",
    "plt.style.use('seaborn')"
   ]
  },
  {
   "cell_type": "code",
   "execution_count": 2,
   "id": "45d1887e",
   "metadata": {},
   "outputs": [
    {
     "name": "stdout",
     "output_type": "stream",
     "text": [
      "137 137 137 137\n"
     ]
    }
   ],
   "source": [
    "summary = []\n",
    "c10 = []\n",
    "c100 = []\n",
    "Qd100_10 = []\n",
    "\n",
    "dir_summary = r\"C:\\Users\\ife12216\\OneDrive - Institutt for Energiteknikk\\Documents\\Masteroppgave\\ML_github\\data\\MIT\\interim\\summary\"\n",
    "dir_c10 = r\"C:\\Users\\ife12216\\OneDrive - Institutt for Energiteknikk\\Documents\\Masteroppgave\\ML_github\\data\\MIT\\interim\\cycles_interpolated\\cycle10_discharge\"\n",
    "dir_c100 = r\"C:\\Users\\ife12216\\OneDrive - Institutt for Energiteknikk\\Documents\\Masteroppgave\\ML_github\\data\\MIT\\interim\\cycles_interpolated\\cycle100_discharge\"\n",
    "dir_Qd100_10 = r\"C:\\Users\\ife12216\\OneDrive - Institutt for Energiteknikk\\Documents\\Masteroppgave\\ML_github\\data\\MIT\\interim\\cycles_interpolated\\DeltaQ100_10_discharge\"\n",
    "\n",
    "for file in range(len(os.listdir(dir_summary))):\n",
    "    f1 = os.path.join(dir_summary, os.listdir(dir_summary)[file])\n",
    "    summary.append(pd.read_csv(f1))\n",
    "    \n",
    "    f2 = os.path.join(dir_c10, os.listdir(dir_c10)[file])\n",
    "    c10.append(pd.read_csv(f2))\n",
    "    \n",
    "    f3 = os.path.join(dir_c100, os.listdir(dir_c100)[file])\n",
    "    c100.append(pd.read_csv(f3))\n",
    "    \n",
    "    f4 = os.path.join(dir_Qd100_10, os.listdir(dir_Qd100_10)[file])\n",
    "    Qd100_10.append(pd.read_csv(f4))\n",
    "    \n",
    "print(len(summary), len(c10), len(c100), len(Qd100_10))"
   ]
  },
  {
   "cell_type": "code",
   "execution_count": 3,
   "id": "d8351324",
   "metadata": {},
   "outputs": [
    {
     "ename": "IndexError",
     "evalue": "list index out of range",
     "output_type": "error",
     "traceback": [
      "\u001b[1;31m---------------------------------------------------------------------------\u001b[0m",
      "\u001b[1;31mIndexError\u001b[0m                                Traceback (most recent call last)",
      "\u001b[1;32m<ipython-input-3-96f4f93f950b>\u001b[0m in \u001b[0;36m<module>\u001b[1;34m\u001b[0m\n\u001b[0;32m      2\u001b[0m \u001b[1;31m# error message on last index because one element is removed\u001b[0m\u001b[1;33m\u001b[0m\u001b[1;33m\u001b[0m\u001b[1;33m\u001b[0m\u001b[0m\n\u001b[0;32m      3\u001b[0m \u001b[1;32mfor\u001b[0m \u001b[0mi\u001b[0m \u001b[1;32min\u001b[0m \u001b[0mrange\u001b[0m\u001b[1;33m(\u001b[0m\u001b[0mlen\u001b[0m\u001b[1;33m(\u001b[0m\u001b[0msummary\u001b[0m\u001b[1;33m)\u001b[0m\u001b[1;33m)\u001b[0m\u001b[1;33m:\u001b[0m\u001b[1;33m\u001b[0m\u001b[1;33m\u001b[0m\u001b[0m\n\u001b[1;32m----> 4\u001b[1;33m     \u001b[1;32mif\u001b[0m\u001b[1;33m(\u001b[0m\u001b[0msummary\u001b[0m\u001b[1;33m[\u001b[0m\u001b[0mi\u001b[0m\u001b[1;33m]\u001b[0m\u001b[1;33m.\u001b[0m\u001b[0miloc\u001b[0m\u001b[1;33m[\u001b[0m\u001b[1;36m1\u001b[0m\u001b[1;33m]\u001b[0m\u001b[1;33m[\u001b[0m\u001b[1;34m'discharge_capacity'\u001b[0m\u001b[1;33m]\u001b[0m \u001b[1;33m<\u001b[0m \u001b[1;36m1\u001b[0m\u001b[1;33m)\u001b[0m\u001b[1;33m:\u001b[0m\u001b[1;33m\u001b[0m\u001b[1;33m\u001b[0m\u001b[0m\n\u001b[0m\u001b[0;32m      5\u001b[0m         \u001b[0msummary\u001b[0m\u001b[1;33m.\u001b[0m\u001b[0mpop\u001b[0m\u001b[1;33m(\u001b[0m\u001b[0mi\u001b[0m\u001b[1;33m)\u001b[0m\u001b[1;33m\u001b[0m\u001b[1;33m\u001b[0m\u001b[0m\n\u001b[0;32m      6\u001b[0m         \u001b[0mQd100_10\u001b[0m\u001b[1;33m.\u001b[0m\u001b[0mpop\u001b[0m\u001b[1;33m(\u001b[0m\u001b[0mi\u001b[0m\u001b[1;33m)\u001b[0m\u001b[1;33m\u001b[0m\u001b[1;33m\u001b[0m\u001b[0m\n",
      "\u001b[1;31mIndexError\u001b[0m: list index out of range"
     ]
    }
   ],
   "source": [
    "# Remove outlier cell that starts at low capacity\n",
    "# error message on last index because one element is removed\n",
    "for i in range(len(summary)):\n",
    "    if(summary[i].iloc[1]['discharge_capacity'] < 1):\n",
    "        summary.pop(i)\n",
    "        Qd100_10.pop(i)\n",
    "        \n",
    "print(len(summary), len(Qd100_10))"
   ]
  },
  {
   "cell_type": "code",
   "execution_count": 4,
   "id": "8f90f166",
   "metadata": {},
   "outputs": [
    {
     "name": "stdout",
     "output_type": "stream",
     "text": [
      "136 136\n"
     ]
    }
   ],
   "source": [
    "print(len(summary), len(Qd100_10))"
   ]
  },
  {
   "cell_type": "code",
   "execution_count": 5,
   "id": "9394b574",
   "metadata": {},
   "outputs": [
    {
     "data": {
      "text/html": [
       "<div>\n",
       "<style scoped>\n",
       "    .dataframe tbody tr th:only-of-type {\n",
       "        vertical-align: middle;\n",
       "    }\n",
       "\n",
       "    .dataframe tbody tr th {\n",
       "        vertical-align: top;\n",
       "    }\n",
       "\n",
       "    .dataframe thead th {\n",
       "        text-align: right;\n",
       "    }\n",
       "</style>\n",
       "<table border=\"1\" class=\"dataframe\">\n",
       "  <thead>\n",
       "    <tr style=\"text-align: right;\">\n",
       "      <th></th>\n",
       "      <th>cycle_index</th>\n",
       "      <th>discharge_capacity</th>\n",
       "      <th>charge_capacity</th>\n",
       "      <th>voltage</th>\n",
       "      <th>current</th>\n",
       "      <th>internal_resistance</th>\n",
       "      <th>temperature</th>\n",
       "      <th>step_type</th>\n",
       "      <th>cycle_life</th>\n",
       "    </tr>\n",
       "  </thead>\n",
       "  <tbody>\n",
       "    <tr>\n",
       "      <th>0</th>\n",
       "      <td>9</td>\n",
       "      <td>0.965217</td>\n",
       "      <td>1.049103</td>\n",
       "      <td>2.800000</td>\n",
       "      <td>-4.400120</td>\n",
       "      <td>0.017379</td>\n",
       "      <td>33.304352</td>\n",
       "      <td>discharge</td>\n",
       "      <td>490</td>\n",
       "    </tr>\n",
       "    <tr>\n",
       "      <th>1</th>\n",
       "      <td>9</td>\n",
       "      <td>0.964985</td>\n",
       "      <td>1.049103</td>\n",
       "      <td>2.800701</td>\n",
       "      <td>-4.400118</td>\n",
       "      <td>0.017379</td>\n",
       "      <td>33.308456</td>\n",
       "      <td>discharge</td>\n",
       "      <td>490</td>\n",
       "    </tr>\n",
       "    <tr>\n",
       "      <th>2</th>\n",
       "      <td>9</td>\n",
       "      <td>0.964753</td>\n",
       "      <td>1.049103</td>\n",
       "      <td>2.801401</td>\n",
       "      <td>-4.400116</td>\n",
       "      <td>0.017379</td>\n",
       "      <td>33.312565</td>\n",
       "      <td>discharge</td>\n",
       "      <td>490</td>\n",
       "    </tr>\n",
       "    <tr>\n",
       "      <th>3</th>\n",
       "      <td>9</td>\n",
       "      <td>0.964521</td>\n",
       "      <td>1.049103</td>\n",
       "      <td>2.802102</td>\n",
       "      <td>-4.400114</td>\n",
       "      <td>0.017379</td>\n",
       "      <td>33.316669</td>\n",
       "      <td>discharge</td>\n",
       "      <td>490</td>\n",
       "    </tr>\n",
       "    <tr>\n",
       "      <th>4</th>\n",
       "      <td>9</td>\n",
       "      <td>0.964289</td>\n",
       "      <td>1.049103</td>\n",
       "      <td>2.802803</td>\n",
       "      <td>-4.400112</td>\n",
       "      <td>0.017379</td>\n",
       "      <td>33.320774</td>\n",
       "      <td>discharge</td>\n",
       "      <td>490</td>\n",
       "    </tr>\n",
       "    <tr>\n",
       "      <th>...</th>\n",
       "      <td>...</td>\n",
       "      <td>...</td>\n",
       "      <td>...</td>\n",
       "      <td>...</td>\n",
       "      <td>...</td>\n",
       "      <td>...</td>\n",
       "      <td>...</td>\n",
       "      <td>...</td>\n",
       "      <td>...</td>\n",
       "    </tr>\n",
       "    <tr>\n",
       "      <th>995</th>\n",
       "      <td>9</td>\n",
       "      <td>0.000070</td>\n",
       "      <td>1.049103</td>\n",
       "      <td>3.497197</td>\n",
       "      <td>-4.064545</td>\n",
       "      <td>0.017379</td>\n",
       "      <td>30.490345</td>\n",
       "      <td>discharge</td>\n",
       "      <td>490</td>\n",
       "    </tr>\n",
       "    <tr>\n",
       "      <th>996</th>\n",
       "      <td>9</td>\n",
       "      <td>0.000070</td>\n",
       "      <td>1.049103</td>\n",
       "      <td>3.497898</td>\n",
       "      <td>-4.040684</td>\n",
       "      <td>0.017379</td>\n",
       "      <td>30.490345</td>\n",
       "      <td>discharge</td>\n",
       "      <td>490</td>\n",
       "    </tr>\n",
       "    <tr>\n",
       "      <th>997</th>\n",
       "      <td>9</td>\n",
       "      <td>0.000070</td>\n",
       "      <td>1.049103</td>\n",
       "      <td>3.498599</td>\n",
       "      <td>-4.016822</td>\n",
       "      <td>0.017379</td>\n",
       "      <td>30.490345</td>\n",
       "      <td>discharge</td>\n",
       "      <td>490</td>\n",
       "    </tr>\n",
       "    <tr>\n",
       "      <th>998</th>\n",
       "      <td>9</td>\n",
       "      <td>0.000070</td>\n",
       "      <td>1.049103</td>\n",
       "      <td>3.499299</td>\n",
       "      <td>-3.993086</td>\n",
       "      <td>0.017379</td>\n",
       "      <td>30.490345</td>\n",
       "      <td>discharge</td>\n",
       "      <td>490</td>\n",
       "    </tr>\n",
       "    <tr>\n",
       "      <th>999</th>\n",
       "      <td>9</td>\n",
       "      <td>0.000070</td>\n",
       "      <td>1.049103</td>\n",
       "      <td>3.500000</td>\n",
       "      <td>-3.969507</td>\n",
       "      <td>0.017379</td>\n",
       "      <td>30.490345</td>\n",
       "      <td>discharge</td>\n",
       "      <td>490</td>\n",
       "    </tr>\n",
       "  </tbody>\n",
       "</table>\n",
       "<p>1000 rows × 9 columns</p>\n",
       "</div>"
      ],
      "text/plain": [
       "     cycle_index  discharge_capacity  charge_capacity   voltage   current  \\\n",
       "0              9            0.965217         1.049103  2.800000 -4.400120   \n",
       "1              9            0.964985         1.049103  2.800701 -4.400118   \n",
       "2              9            0.964753         1.049103  2.801401 -4.400116   \n",
       "3              9            0.964521         1.049103  2.802102 -4.400114   \n",
       "4              9            0.964289         1.049103  2.802803 -4.400112   \n",
       "..           ...                 ...              ...       ...       ...   \n",
       "995            9            0.000070         1.049103  3.497197 -4.064545   \n",
       "996            9            0.000070         1.049103  3.497898 -4.040684   \n",
       "997            9            0.000070         1.049103  3.498599 -4.016822   \n",
       "998            9            0.000070         1.049103  3.499299 -3.993086   \n",
       "999            9            0.000070         1.049103  3.500000 -3.969507   \n",
       "\n",
       "     internal_resistance  temperature  step_type  cycle_life  \n",
       "0               0.017379    33.304352  discharge         490  \n",
       "1               0.017379    33.308456  discharge         490  \n",
       "2               0.017379    33.312565  discharge         490  \n",
       "3               0.017379    33.316669  discharge         490  \n",
       "4               0.017379    33.320774  discharge         490  \n",
       "..                   ...          ...        ...         ...  \n",
       "995             0.017379    30.490345  discharge         490  \n",
       "996             0.017379    30.490345  discharge         490  \n",
       "997             0.017379    30.490345  discharge         490  \n",
       "998             0.017379    30.490345  discharge         490  \n",
       "999             0.017379    30.490345  discharge         490  \n",
       "\n",
       "[1000 rows x 9 columns]"
      ]
     },
     "execution_count": 5,
     "metadata": {},
     "output_type": "execute_result"
    }
   ],
   "source": [
    "c10[0]"
   ]
  },
  {
   "cell_type": "markdown",
   "id": "ea69467b",
   "metadata": {},
   "source": [
    "# Feature Generation\n",
    "\n",
    "The features can be split into three categories:\n",
    "\n",
    "Features based on $\\Delta Q_{100-10}(V)$\n",
    "- f1: min$(\\Delta Q_{100-10}(V))$\n",
    "- f2: mean$(\\Delta Q_{100-10}(V))$\n",
    "- f3: var$(\\Delta Q_{100-10}(V))$\n",
    "- f4: skewness$(\\Delta Q_{100-10}(V))$\n",
    "- f5: kurtosis$(\\Delta Q_{100-10}(V))$\n",
    "\n",
    "Features based on the discharge capacity fade curves\n",
    "- f6: Slope of the linear fit to the capacity fade curve, cycles 2 to 100\n",
    "- f7: Intercept of the linear fit to capacity fade curve, cycles 2 to 100\n",
    "- f8: Slope of the linear fit to the capacity fade curve, cycles 91 to 100\n",
    "- f9: Intercept of the linear fit to capacity fade curve, cycles 91 to 100\n",
    "- f10: Discharge capacity, cycle 2\n",
    "- f11: Difference between max discharge capacity and cycle 2\n",
    "- f12: Discharge capacity, cycle 100\n",
    "\n",
    "Other features\n",
    "- f13: Average charge time, first 5 cycles\n",
    "- f14: Maximum temperature, cycles 2 to 100\n",
    "- f15: Minimum temperature, cycles 2 to 100\n",
    "- f16: Integral of temperature over time, cycles 2 to 100\n",
    "- f17: Internal resistance, cycle 2\n",
    "- f18: Minimum internal resistance, cycles 2 to 100\n",
    "- f19: Internal resistance, difference between cycle 100 and cycle 2\n",
    "\n",
    "\n",
    "\n",
    "The features are extracted in the cell below."
   ]
  },
  {
   "cell_type": "code",
   "execution_count": 61,
   "id": "f01c2e87",
   "metadata": {},
   "outputs": [],
   "source": [
    "p = 23 # number of features, p\n",
    "n = len(summary) # number of samples, n\n",
    "\n",
    "# Target vector\n",
    "y = np.zeros((n)) # (samples)\n",
    "\n",
    "# Design matrix\n",
    "X = np.zeros((n,p)) # (samples x features)\n",
    "\n",
    "# Q100-10 features f1-f5\n",
    "for i in range(len(Qd100_10)): \n",
    "    \n",
    "    y[i] = np.log10(summary[i].index[-1])\n",
    "    \n",
    "    # Discharge related features\n",
    "    X[i,0] = np.log10(abs(np.amin(Qd100_10[i]['discharge_capacity'].values)))\n",
    "    X[i,1] = np.log10(abs(np.mean(Qd100_10[i]['discharge_capacity'].values)))\n",
    "    X[i,2] = np.log10(np.var(Qd100_10[i]['discharge_capacity'].values))\n",
    "    X[i,3] = np.log10(iqr(Qd100_10[i]['discharge_capacity'].values))\n",
    "    X[i,4] = np.log10(iqr(Qd100_10[i]['discharge_capacity'].values, rng=(10,90)))\n",
    "    X[i,5] = np.log10(abs(skew(Qd100_10[i]['discharge_capacity'].values)))\n",
    "    X[i,6] = np.log10(abs(kurtosis(Qd100_10[i]['discharge_capacity'].values)))\n",
    "    \n",
    "    # Capacity related features\n",
    "    Qd80_100 = summary[i]['discharge_capacity'][79:100].values\n",
    "    fit80_100 = np.polyfit(np.arange(79,100), Qd80_100, 1)\n",
    "    slope80_100 = fit80_100[0]\n",
    "    intercept80_100 = fit80_100[1]\n",
    "    \n",
    "    Qd2_100 = summary[i]['discharge_capacity'][1:100].values\n",
    "    fit2_100 = np.polyfit(np.arange(1,100), Qd2_100, 1)\n",
    "    slope2_100 = fit2_100[0]\n",
    "    intercept2_100 = fit2_100[1]\n",
    "    \n",
    "    Qd91_100 = summary[i]['discharge_capacity'][90:100].values\n",
    "    fit91_100 = np.polyfit(np.arange(90,100), Qd91_100, 1)\n",
    "    slope91_100 = fit91_100[0]\n",
    "    intercept91_100 = fit91_100[1]\n",
    "    \n",
    "    Q_maxdiff = np.amax(summary[i]['discharge_capacity'][1:100]) - summary[i]['discharge_capacity'][1]\n",
    "    \n",
    "    X[i,7] = slope80_100\n",
    "    X[i,8] = intercept80_100\n",
    "    \n",
    "    X[i,9] = slope2_100\n",
    "    X[i,10] = intercept2_100\n",
    "    \n",
    "    X[i,11] = slope91_100\n",
    "    X[i,12] = intercept91_100\n",
    "    \n",
    "    X[i,13] = summary[i]['discharge_capacity'][1]\n",
    "    X[i,14] = Q_maxdiff\n",
    "    \n",
    "    # Temperature related features\n",
    "    Tmin_diff = summary[i]['temperature_maximum'][100] - summary[i]['temperature_maximum'][1]\n",
    "    Tmax_diff = summary[i]['temperature_maximum'][100] - summary[i]['temperature_maximum'][1]\n",
    "    Tmean = np.mean(summary[i]['temperature_average'][1:100])\n",
    "    Tint_diff = summary[i]['time_temperature_integrated'][100] - summary[i]['time_temperature_integrated'][1]\n",
    "    \n",
    "    X[i,15] = Tmin_diff\n",
    "    X[i,16] = Tmax_diff\n",
    "    X[i,17] = Tmean\n",
    "    X[i,18] = Tint_diff\n",
    "    \n",
    "    # IR related features\n",
    "    X[i,19] = summary[i]['dc_internal_resistance'][100] - summary[i]['dc_internal_resistance'][1]\n",
    "    X[i,20] = np.mean(summary[i]['dc_internal_resistance'][1:100])\n",
    "    X[i,21] = np.amin(summary[i]['dc_internal_resistance'][1:100])\n",
    "    \n",
    "    # Charge related features\n",
    "    X[i,22] = np.mean(summary[i]['charge_duration'][1:6])"
   ]
  },
  {
   "cell_type": "code",
   "execution_count": 62,
   "id": "8962c312",
   "metadata": {},
   "outputs": [
    {
     "name": "stdout",
     "output_type": "stream",
     "text": [
      "0 -0.88\n",
      "1 -0.83\n",
      "2 -0.86\n",
      "3 -0.85\n",
      "4 -0.86\n",
      "5 0.32\n",
      "6 -0.34\n",
      "7 0.5\n",
      "8 -0.26\n",
      "9 0.41\n",
      "10 -0.14\n",
      "11 0.49\n",
      "12 -0.26\n",
      "13 -0.02\n",
      "14 0.07\n",
      "15 -0.31\n",
      "16 -0.31\n",
      "17 0.34\n",
      "18 -0.26\n",
      "19 0.33\n",
      "20 -0.51\n",
      "21 -0.21\n",
      "22 0.35\n"
     ]
    }
   ],
   "source": [
    "for i in range(X.shape[1]):\n",
    "    corr = np.round(np.corrcoef(X[:,i], y), decimals=2)\n",
    "    print(i, corr[1][0])"
   ]
  },
  {
   "cell_type": "code",
   "execution_count": 7,
   "id": "f63cec61",
   "metadata": {},
   "outputs": [
    {
     "data": {
      "text/plain": [
       "(1.02, 1.045)"
      ]
     },
     "execution_count": 7,
     "metadata": {},
     "output_type": "execute_result"
    },
    {
     "data": {
      "image/png": "[encoded data removed]",
      "text/plain": [
       "<Figure size 576x396 with 1 Axes>"
      ]
     },
     "metadata": {},
     "output_type": "display_data"
    }
   ],
   "source": [
    "Qd80_100 = summary[0]['discharge_capacity'][80:100].values\n",
    "cycles = np.arange(80,100)\n",
    "fit80_100_lin = np.polyfit(np.arange(80,100), Qd80_100, 1)\n",
    "poly1 = np.poly1d(fit80_100_lin)\n",
    "\n",
    "plt.scatter(cycles, Qd80_100, color='orange', s=10)\n",
    "plt.plot(cycles, poly1(cycles), linewidth=0.5)\n",
    "plt.ylim(1.02,1.045)"
   ]
  },
  {
   "cell_type": "markdown",
   "id": "0d1a13e7",
   "metadata": {},
   "source": [
    "### Make Elastic Net model"
   ]
  },
  {
   "cell_type": "code",
   "execution_count": 9,
   "id": "90a5415f",
   "metadata": {},
   "outputs": [],
   "source": [
    "from sklearn.pipeline import Pipeline\n",
    "from sklearn.linear_model import ElasticNet\n",
    "from sklearn.gaussian_process.kernels import ExpSineSquared\n",
    "from sklearn.gaussian_process import GaussianProcessRegressor\n",
    "from sklearn.svm import SVR\n",
    "from sklearn.ensemble import RandomForestRegressor\n",
    "from sklearn.neural_network import MLPRegressor\n",
    "from sklearn.preprocessing import StandardScaler\n",
    "from sklearn.model_selection import train_test_split, StratifiedKFold, GridSearchCV, KFold\n",
    "from sklearn.metrics import make_scorer, mean_squared_error, r2_score, mean_absolute_percentage_error\n",
    "\n",
    "from functions import get_errors, get_errors2"
   ]
  },
  {
   "cell_type": "code",
   "execution_count": 10,
   "id": "2d1532bf",
   "metadata": {},
   "outputs": [],
   "source": [
    "def rmse_cycles(y_true, y_pred):\n",
    "    return mean_squared_error(np.power(10, y_true), np.power(10, y_pred), squared=False)"
   ]
  },
  {
   "cell_type": "markdown",
   "id": "724bcb8d",
   "metadata": {},
   "source": [
    "#### Do gridsearch for hyperparameters"
   ]
  },
  {
   "cell_type": "code",
   "execution_count": 11,
   "id": "298a7395",
   "metadata": {},
   "outputs": [
    {
     "name": "stdout",
     "output_type": "stream",
     "text": [
      "Best parameters for EN (CV score=-186.306):\n",
      "{'alpha': 0.0001, 'l1_ratio': 0.5}\n",
      "\n"
     ]
    }
   ],
   "source": [
    "scorer = make_scorer(rmse_cycles, greater_is_better=False)\n",
    "cv = 5\n",
    "\n",
    "pipe_EN = Pipeline([('scaler', StandardScaler()), ('estimator', ElasticNet(max_iter=10000, tol=0.01))])\n",
    "params = {'l1_ratio': [0.1,0.3,0.5,0.7,0.9,0.95,0.99,1], 'alpha': [0.00001,0.0001,0.001, 0.01, 0.1, 0.5, 1.0, 10]}\n",
    "gs_en = GridSearchCV(pipe_EN[1], params, cv=cv, scoring=scorer)\n",
    "gs_en.fit(X, y)\n",
    "print(\"Best parameters for EN (CV score=%0.3f):\" % gs_en.best_score_)\n",
    "print(gs_en.best_params_)\n",
    "print(\"\")"
   ]
  },
  {
   "cell_type": "markdown",
   "id": "405c810c",
   "metadata": {},
   "source": [
    "## DONT USE THIS, USE THE ONE BELOW"
   ]
  },
  {
   "cell_type": "code",
   "execution_count": 12,
   "id": "bd755354",
   "metadata": {},
   "outputs": [
    {
     "name": "stdout",
     "output_type": "stream",
     "text": [
      "k =  0\n"
     ]
    },
    {
     "data": {
      "text/html": [
       "<div>\n",
       "<style scoped>\n",
       "    .dataframe tbody tr th:only-of-type {\n",
       "        vertical-align: middle;\n",
       "    }\n",
       "\n",
       "    .dataframe tbody tr th {\n",
       "        vertical-align: top;\n",
       "    }\n",
       "\n",
       "    .dataframe thead th {\n",
       "        text-align: right;\n",
       "    }\n",
       "</style>\n",
       "<table border=\"1\" class=\"dataframe\">\n",
       "  <thead>\n",
       "    <tr style=\"text-align: right;\">\n",
       "      <th></th>\n",
       "      <th>MAE</th>\n",
       "      <th>RMSE CYCLES</th>\n",
       "      <th>R2 SCORE</th>\n",
       "      <th>MAPE</th>\n",
       "    </tr>\n",
       "  </thead>\n",
       "  <tbody>\n",
       "    <tr>\n",
       "      <th>train</th>\n",
       "      <td>72.008751</td>\n",
       "      <td>119.005296</td>\n",
       "      <td>0.922933</td>\n",
       "      <td>0.012424</td>\n",
       "    </tr>\n",
       "    <tr>\n",
       "      <th>test</th>\n",
       "      <td>154.716420</td>\n",
       "      <td>289.654377</td>\n",
       "      <td>0.745597</td>\n",
       "      <td>0.017183</td>\n",
       "    </tr>\n",
       "  </tbody>\n",
       "</table>\n",
       "</div>"
      ],
      "text/plain": [
       "              MAE  RMSE CYCLES  R2 SCORE      MAPE\n",
       "train   72.008751   119.005296  0.922933  0.012424\n",
       "test   154.716420   289.654377  0.745597  0.017183"
      ]
     },
     "metadata": {},
     "output_type": "display_data"
    },
    {
     "name": "stdout",
     "output_type": "stream",
     "text": [
      "k =  1\n"
     ]
    },
    {
     "data": {
      "text/html": [
       "<div>\n",
       "<style scoped>\n",
       "    .dataframe tbody tr th:only-of-type {\n",
       "        vertical-align: middle;\n",
       "    }\n",
       "\n",
       "    .dataframe tbody tr th {\n",
       "        vertical-align: top;\n",
       "    }\n",
       "\n",
       "    .dataframe thead th {\n",
       "        text-align: right;\n",
       "    }\n",
       "</style>\n",
       "<table border=\"1\" class=\"dataframe\">\n",
       "  <thead>\n",
       "    <tr style=\"text-align: right;\">\n",
       "      <th></th>\n",
       "      <th>MAE</th>\n",
       "      <th>RMSE CYCLES</th>\n",
       "      <th>R2 SCORE</th>\n",
       "      <th>MAPE</th>\n",
       "    </tr>\n",
       "  </thead>\n",
       "  <tbody>\n",
       "    <tr>\n",
       "      <th>train</th>\n",
       "      <td>80.716131</td>\n",
       "      <td>138.41445</td>\n",
       "      <td>0.913195</td>\n",
       "      <td>0.012998</td>\n",
       "    </tr>\n",
       "    <tr>\n",
       "      <th>test</th>\n",
       "      <td>71.632119</td>\n",
       "      <td>98.37455</td>\n",
       "      <td>0.891105</td>\n",
       "      <td>0.012965</td>\n",
       "    </tr>\n",
       "  </tbody>\n",
       "</table>\n",
       "</div>"
      ],
      "text/plain": [
       "             MAE  RMSE CYCLES  R2 SCORE      MAPE\n",
       "train  80.716131    138.41445  0.913195  0.012998\n",
       "test   71.632119     98.37455  0.891105  0.012965"
      ]
     },
     "metadata": {},
     "output_type": "display_data"
    },
    {
     "name": "stdout",
     "output_type": "stream",
     "text": [
      "k =  2\n"
     ]
    },
    {
     "data": {
      "text/html": [
       "<div>\n",
       "<style scoped>\n",
       "    .dataframe tbody tr th:only-of-type {\n",
       "        vertical-align: middle;\n",
       "    }\n",
       "\n",
       "    .dataframe tbody tr th {\n",
       "        vertical-align: top;\n",
       "    }\n",
       "\n",
       "    .dataframe thead th {\n",
       "        text-align: right;\n",
       "    }\n",
       "</style>\n",
       "<table border=\"1\" class=\"dataframe\">\n",
       "  <thead>\n",
       "    <tr style=\"text-align: right;\">\n",
       "      <th></th>\n",
       "      <th>MAE</th>\n",
       "      <th>RMSE CYCLES</th>\n",
       "      <th>R2 SCORE</th>\n",
       "      <th>MAPE</th>\n",
       "    </tr>\n",
       "  </thead>\n",
       "  <tbody>\n",
       "    <tr>\n",
       "      <th>train</th>\n",
       "      <td>75.652972</td>\n",
       "      <td>127.299790</td>\n",
       "      <td>0.924772</td>\n",
       "      <td>0.012325</td>\n",
       "    </tr>\n",
       "    <tr>\n",
       "      <th>test</th>\n",
       "      <td>117.143093</td>\n",
       "      <td>184.346822</td>\n",
       "      <td>0.739976</td>\n",
       "      <td>0.019900</td>\n",
       "    </tr>\n",
       "  </tbody>\n",
       "</table>\n",
       "</div>"
      ],
      "text/plain": [
       "              MAE  RMSE CYCLES  R2 SCORE      MAPE\n",
       "train   75.652972   127.299790  0.924772  0.012325\n",
       "test   117.143093   184.346822  0.739976  0.019900"
      ]
     },
     "metadata": {},
     "output_type": "display_data"
    },
    {
     "name": "stdout",
     "output_type": "stream",
     "text": [
      "k =  3\n"
     ]
    },
    {
     "data": {
      "text/html": [
       "<div>\n",
       "<style scoped>\n",
       "    .dataframe tbody tr th:only-of-type {\n",
       "        vertical-align: middle;\n",
       "    }\n",
       "\n",
       "    .dataframe tbody tr th {\n",
       "        vertical-align: top;\n",
       "    }\n",
       "\n",
       "    .dataframe thead th {\n",
       "        text-align: right;\n",
       "    }\n",
       "</style>\n",
       "<table border=\"1\" class=\"dataframe\">\n",
       "  <thead>\n",
       "    <tr style=\"text-align: right;\">\n",
       "      <th></th>\n",
       "      <th>MAE</th>\n",
       "      <th>RMSE CYCLES</th>\n",
       "      <th>R2 SCORE</th>\n",
       "      <th>MAPE</th>\n",
       "    </tr>\n",
       "  </thead>\n",
       "  <tbody>\n",
       "    <tr>\n",
       "      <th>train</th>\n",
       "      <td>72.782685</td>\n",
       "      <td>116.686898</td>\n",
       "      <td>0.925514</td>\n",
       "      <td>0.012382</td>\n",
       "    </tr>\n",
       "    <tr>\n",
       "      <th>test</th>\n",
       "      <td>137.483342</td>\n",
       "      <td>216.885262</td>\n",
       "      <td>0.750861</td>\n",
       "      <td>0.023127</td>\n",
       "    </tr>\n",
       "  </tbody>\n",
       "</table>\n",
       "</div>"
      ],
      "text/plain": [
       "              MAE  RMSE CYCLES  R2 SCORE      MAPE\n",
       "train   72.782685   116.686898  0.925514  0.012382\n",
       "test   137.483342   216.885262  0.750861  0.023127"
      ]
     },
     "metadata": {},
     "output_type": "display_data"
    },
    {
     "name": "stdout",
     "output_type": "stream",
     "text": [
      "k =  4\n"
     ]
    },
    {
     "data": {
      "text/html": [
       "<div>\n",
       "<style scoped>\n",
       "    .dataframe tbody tr th:only-of-type {\n",
       "        vertical-align: middle;\n",
       "    }\n",
       "\n",
       "    .dataframe tbody tr th {\n",
       "        vertical-align: top;\n",
       "    }\n",
       "\n",
       "    .dataframe thead th {\n",
       "        text-align: right;\n",
       "    }\n",
       "</style>\n",
       "<table border=\"1\" class=\"dataframe\">\n",
       "  <thead>\n",
       "    <tr style=\"text-align: right;\">\n",
       "      <th></th>\n",
       "      <th>MAE</th>\n",
       "      <th>RMSE CYCLES</th>\n",
       "      <th>R2 SCORE</th>\n",
       "      <th>MAPE</th>\n",
       "    </tr>\n",
       "  </thead>\n",
       "  <tbody>\n",
       "    <tr>\n",
       "      <th>train</th>\n",
       "      <td>72.259494</td>\n",
       "      <td>124.658778</td>\n",
       "      <td>0.924779</td>\n",
       "      <td>0.011894</td>\n",
       "    </tr>\n",
       "    <tr>\n",
       "      <th>test</th>\n",
       "      <td>144.035516</td>\n",
       "      <td>253.256691</td>\n",
       "      <td>0.597490</td>\n",
       "      <td>0.019201</td>\n",
       "    </tr>\n",
       "  </tbody>\n",
       "</table>\n",
       "</div>"
      ],
      "text/plain": [
       "              MAE  RMSE CYCLES  R2 SCORE      MAPE\n",
       "train   72.259494   124.658778  0.924779  0.011894\n",
       "test   144.035516   253.256691  0.597490  0.019201"
      ]
     },
     "metadata": {},
     "output_type": "display_data"
    },
    {
     "name": "stdout",
     "output_type": "stream",
     "text": [
      "k =  5\n"
     ]
    },
    {
     "data": {
      "text/html": [
       "<div>\n",
       "<style scoped>\n",
       "    .dataframe tbody tr th:only-of-type {\n",
       "        vertical-align: middle;\n",
       "    }\n",
       "\n",
       "    .dataframe tbody tr th {\n",
       "        vertical-align: top;\n",
       "    }\n",
       "\n",
       "    .dataframe thead th {\n",
       "        text-align: right;\n",
       "    }\n",
       "</style>\n",
       "<table border=\"1\" class=\"dataframe\">\n",
       "  <thead>\n",
       "    <tr style=\"text-align: right;\">\n",
       "      <th></th>\n",
       "      <th>MAE</th>\n",
       "      <th>RMSE CYCLES</th>\n",
       "      <th>R2 SCORE</th>\n",
       "      <th>MAPE</th>\n",
       "    </tr>\n",
       "  </thead>\n",
       "  <tbody>\n",
       "    <tr>\n",
       "      <th>train</th>\n",
       "      <td>72.316677</td>\n",
       "      <td>117.782239</td>\n",
       "      <td>0.930858</td>\n",
       "      <td>0.011718</td>\n",
       "    </tr>\n",
       "    <tr>\n",
       "      <th>test</th>\n",
       "      <td>175.351956</td>\n",
       "      <td>345.533756</td>\n",
       "      <td>-100.747272</td>\n",
       "      <td>0.171578</td>\n",
       "    </tr>\n",
       "  </tbody>\n",
       "</table>\n",
       "</div>"
      ],
      "text/plain": [
       "              MAE  RMSE CYCLES    R2 SCORE      MAPE\n",
       "train   72.316677   117.782239    0.930858  0.011718\n",
       "test   175.351956   345.533756 -100.747272  0.171578"
      ]
     },
     "metadata": {},
     "output_type": "display_data"
    },
    {
     "name": "stdout",
     "output_type": "stream",
     "text": [
      "k =  6\n"
     ]
    },
    {
     "data": {
      "text/html": [
       "<div>\n",
       "<style scoped>\n",
       "    .dataframe tbody tr th:only-of-type {\n",
       "        vertical-align: middle;\n",
       "    }\n",
       "\n",
       "    .dataframe tbody tr th {\n",
       "        vertical-align: top;\n",
       "    }\n",
       "\n",
       "    .dataframe thead th {\n",
       "        text-align: right;\n",
       "    }\n",
       "</style>\n",
       "<table border=\"1\" class=\"dataframe\">\n",
       "  <thead>\n",
       "    <tr style=\"text-align: right;\">\n",
       "      <th></th>\n",
       "      <th>MAE</th>\n",
       "      <th>RMSE CYCLES</th>\n",
       "      <th>R2 SCORE</th>\n",
       "      <th>MAPE</th>\n",
       "    </tr>\n",
       "  </thead>\n",
       "  <tbody>\n",
       "    <tr>\n",
       "      <th>train</th>\n",
       "      <td>78.159776</td>\n",
       "      <td>135.595490</td>\n",
       "      <td>0.910452</td>\n",
       "      <td>0.012367</td>\n",
       "    </tr>\n",
       "    <tr>\n",
       "      <th>test</th>\n",
       "      <td>76.575350</td>\n",
       "      <td>114.370974</td>\n",
       "      <td>0.877166</td>\n",
       "      <td>0.017580</td>\n",
       "    </tr>\n",
       "  </tbody>\n",
       "</table>\n",
       "</div>"
      ],
      "text/plain": [
       "             MAE  RMSE CYCLES  R2 SCORE      MAPE\n",
       "train  78.159776   135.595490  0.910452  0.012367\n",
       "test   76.575350   114.370974  0.877166  0.017580"
      ]
     },
     "metadata": {},
     "output_type": "display_data"
    },
    {
     "name": "stdout",
     "output_type": "stream",
     "text": [
      "k =  7\n"
     ]
    },
    {
     "data": {
      "text/html": [
       "<div>\n",
       "<style scoped>\n",
       "    .dataframe tbody tr th:only-of-type {\n",
       "        vertical-align: middle;\n",
       "    }\n",
       "\n",
       "    .dataframe tbody tr th {\n",
       "        vertical-align: top;\n",
       "    }\n",
       "\n",
       "    .dataframe thead th {\n",
       "        text-align: right;\n",
       "    }\n",
       "</style>\n",
       "<table border=\"1\" class=\"dataframe\">\n",
       "  <thead>\n",
       "    <tr style=\"text-align: right;\">\n",
       "      <th></th>\n",
       "      <th>MAE</th>\n",
       "      <th>RMSE CYCLES</th>\n",
       "      <th>R2 SCORE</th>\n",
       "      <th>MAPE</th>\n",
       "    </tr>\n",
       "  </thead>\n",
       "  <tbody>\n",
       "    <tr>\n",
       "      <th>train</th>\n",
       "      <td>73.009585</td>\n",
       "      <td>120.081859</td>\n",
       "      <td>0.898937</td>\n",
       "      <td>0.012552</td>\n",
       "    </tr>\n",
       "    <tr>\n",
       "      <th>test</th>\n",
       "      <td>181.778625</td>\n",
       "      <td>329.929494</td>\n",
       "      <td>0.888849</td>\n",
       "      <td>0.023476</td>\n",
       "    </tr>\n",
       "  </tbody>\n",
       "</table>\n",
       "</div>"
      ],
      "text/plain": [
       "              MAE  RMSE CYCLES  R2 SCORE      MAPE\n",
       "train   73.009585   120.081859  0.898937  0.012552\n",
       "test   181.778625   329.929494  0.888849  0.023476"
      ]
     },
     "metadata": {},
     "output_type": "display_data"
    },
    {
     "name": "stdout",
     "output_type": "stream",
     "text": [
      "k =  8\n"
     ]
    },
    {
     "data": {
      "text/html": [
       "<div>\n",
       "<style scoped>\n",
       "    .dataframe tbody tr th:only-of-type {\n",
       "        vertical-align: middle;\n",
       "    }\n",
       "\n",
       "    .dataframe tbody tr th {\n",
       "        vertical-align: top;\n",
       "    }\n",
       "\n",
       "    .dataframe thead th {\n",
       "        text-align: right;\n",
       "    }\n",
       "</style>\n",
       "<table border=\"1\" class=\"dataframe\">\n",
       "  <thead>\n",
       "    <tr style=\"text-align: right;\">\n",
       "      <th></th>\n",
       "      <th>MAE</th>\n",
       "      <th>RMSE CYCLES</th>\n",
       "      <th>R2 SCORE</th>\n",
       "      <th>MAPE</th>\n",
       "    </tr>\n",
       "  </thead>\n",
       "  <tbody>\n",
       "    <tr>\n",
       "      <th>train</th>\n",
       "      <td>80.796234</td>\n",
       "      <td>135.832967</td>\n",
       "      <td>0.913370</td>\n",
       "      <td>0.013296</td>\n",
       "    </tr>\n",
       "    <tr>\n",
       "      <th>test</th>\n",
       "      <td>44.486308</td>\n",
       "      <td>55.244714</td>\n",
       "      <td>0.933662</td>\n",
       "      <td>0.007211</td>\n",
       "    </tr>\n",
       "  </tbody>\n",
       "</table>\n",
       "</div>"
      ],
      "text/plain": [
       "             MAE  RMSE CYCLES  R2 SCORE      MAPE\n",
       "train  80.796234   135.832967  0.913370  0.013296\n",
       "test   44.486308    55.244714  0.933662  0.007211"
      ]
     },
     "metadata": {},
     "output_type": "display_data"
    },
    {
     "name": "stdout",
     "output_type": "stream",
     "text": [
      "k =  9\n"
     ]
    },
    {
     "data": {
      "text/html": [
       "<div>\n",
       "<style scoped>\n",
       "    .dataframe tbody tr th:only-of-type {\n",
       "        vertical-align: middle;\n",
       "    }\n",
       "\n",
       "    .dataframe tbody tr th {\n",
       "        vertical-align: top;\n",
       "    }\n",
       "\n",
       "    .dataframe thead th {\n",
       "        text-align: right;\n",
       "    }\n",
       "</style>\n",
       "<table border=\"1\" class=\"dataframe\">\n",
       "  <thead>\n",
       "    <tr style=\"text-align: right;\">\n",
       "      <th></th>\n",
       "      <th>MAE</th>\n",
       "      <th>RMSE CYCLES</th>\n",
       "      <th>R2 SCORE</th>\n",
       "      <th>MAPE</th>\n",
       "    </tr>\n",
       "  </thead>\n",
       "  <tbody>\n",
       "    <tr>\n",
       "      <th>train</th>\n",
       "      <td>73.438040</td>\n",
       "      <td>121.979285</td>\n",
       "      <td>0.929222</td>\n",
       "      <td>0.012159</td>\n",
       "    </tr>\n",
       "    <tr>\n",
       "      <th>test</th>\n",
       "      <td>87.884439</td>\n",
       "      <td>163.846900</td>\n",
       "      <td>0.407068</td>\n",
       "      <td>0.019523</td>\n",
       "    </tr>\n",
       "  </tbody>\n",
       "</table>\n",
       "</div>"
      ],
      "text/plain": [
       "             MAE  RMSE CYCLES  R2 SCORE      MAPE\n",
       "train  73.438040   121.979285  0.929222  0.012159\n",
       "test   87.884439   163.846900  0.407068  0.019523"
      ]
     },
     "metadata": {},
     "output_type": "display_data"
    }
   ],
   "source": [
    "# k-fold cross-validation\n",
    "k = 10\n",
    "kfold = KFold(n_splits=k, shuffle=True, random_state=42)\n",
    "\n",
    "# Make pipeline\n",
    "pipe_EN = Pipeline([('scaler', StandardScaler()), ('estimator', ElasticNet(l1_ratio=0.5, alpha=0.0001, max_iter=10000, tol=0.001))])\n",
    "\n",
    "# Full model\n",
    "errors = np.zeros((k, 8)) # (# k-folds, # error metrics)\n",
    "i = 0\n",
    "for train_ind, test_ind in(kfold.split(X, y)):\n",
    "    X_train, X_test = X[train_ind], X[test_ind]\n",
    "    y_train, y_test = y[train_ind], y[test_ind]\n",
    "    \n",
    "    pipe_EN.fit(X_train, y_train)\n",
    "    prediction_train = pipe_EN.predict(X_train)\n",
    "    prediction_test = pipe_EN.predict(X_test)\n",
    "    \n",
    "    errors[i,:] = get_errors(y_train, y_test, prediction_train, prediction_test)\n",
    "    errors_table = pd.DataFrame({'MAE': [errors[i,0], errors[i,1]], 'RMSE CYCLES': [errors[i,2],errors[i,3]],\\\n",
    "                       'R2 SCORE': [errors[i,4],errors[i,5]] ,'MAPE': [errors[i,6],errors[i,7]]}, index=['train', 'test'])\n",
    "    \n",
    "    print(\"k = \", i)\n",
    "    display(errors_table)\n",
    "    \n",
    "    i+=1\n",
    "    \n",
    "    #print(pipe_EN[1].coef_)\n",
    "    #print(\"\")"
   ]
  },
  {
   "cell_type": "code",
   "execution_count": 13,
   "id": "da24cd0b",
   "metadata": {},
   "outputs": [
    {
     "name": "stdout",
     "output_type": "stream",
     "text": [
      "\n",
      "\n",
      "\n",
      "Elastic Net model - Mean errors after cross-validation\n"
     ]
    },
    {
     "data": {
      "text/html": [
       "<div>\n",
       "<style scoped>\n",
       "    .dataframe tbody tr th:only-of-type {\n",
       "        vertical-align: middle;\n",
       "    }\n",
       "\n",
       "    .dataframe tbody tr th {\n",
       "        vertical-align: top;\n",
       "    }\n",
       "\n",
       "    .dataframe thead th {\n",
       "        text-align: right;\n",
       "    }\n",
       "</style>\n",
       "<table border=\"1\" class=\"dataframe\">\n",
       "  <thead>\n",
       "    <tr style=\"text-align: right;\">\n",
       "      <th></th>\n",
       "      <th>MAE</th>\n",
       "      <th>RMSE CYCLES</th>\n",
       "      <th>R2 SCORE</th>\n",
       "      <th>MAPE</th>\n",
       "    </tr>\n",
       "  </thead>\n",
       "  <tbody>\n",
       "    <tr>\n",
       "      <th>train</th>\n",
       "      <td>75.114035</td>\n",
       "      <td>125.733705</td>\n",
       "      <td>0.919403</td>\n",
       "      <td>0.012412</td>\n",
       "    </tr>\n",
       "    <tr>\n",
       "      <th>test</th>\n",
       "      <td>119.108717</td>\n",
       "      <td>205.144354</td>\n",
       "      <td>-9.391550</td>\n",
       "      <td>0.033174</td>\n",
       "    </tr>\n",
       "  </tbody>\n",
       "</table>\n",
       "</div>"
      ],
      "text/plain": [
       "              MAE  RMSE CYCLES  R2 SCORE      MAPE\n",
       "train   75.114035   125.733705  0.919403  0.012412\n",
       "test   119.108717   205.144354 -9.391550  0.033174"
      ]
     },
     "metadata": {},
     "output_type": "display_data"
    }
   ],
   "source": [
    "print(\"\\n\\n\")\n",
    "print('Elastic Net model - Mean errors after cross-validation')\n",
    "errors = np.mean(errors, axis=0)\n",
    "errors_table = pd.DataFrame({'MAE': [errors[0], errors[1]], 'RMSE CYCLES': [errors[2],errors[3]],\\\n",
    "                       'R2 SCORE': [errors[4],errors[5]] ,'MAPE': [errors[6],errors[7]]}, index=['train', 'test'])\n",
    "display(errors_table)"
   ]
  },
  {
   "cell_type": "code",
   "execution_count": 112,
   "id": "2feb5341",
   "metadata": {},
   "outputs": [
    {
     "name": "stdout",
     "output_type": "stream",
     "text": [
      "RMSE:  138 103\n",
      "R2:  0.91 0.9\n",
      "MAPE:  9.0 9.5\n"
     ]
    },
    {
     "data": {
      "image/png": "[encoded data removed]",
      "text/plain": [
       "<Figure size 576x396 with 1 Axes>"
      ]
     },
     "metadata": {},
     "output_type": "display_data"
    }
   ],
   "source": [
    "# Split into train/test\n",
    "\n",
    "X_train, X_test, y_train, y_test = train_test_split(X,y, test_size=0.2, random_state=1)\n",
    "\n",
    "# Create model and fit \n",
    "pipe_EN = Pipeline([('scaler', StandardScaler()), ('estimator', ElasticNet(l1_ratio=0.5, alpha=0.0001, max_iter=10000, tol=0.001))])\n",
    "pipe_EN.fit(X_train, y_train)\n",
    "\n",
    "# Make predictions\n",
    "ypred_train = pipe_EN.predict(X_train)\n",
    "ypred_test = pipe_EN.predict(X_test)\n",
    "\n",
    "# Get errors\n",
    "rmse_train = round(rmse_cycles(y_train, ypred_train))\n",
    "rmse_test = round(rmse_cycles(y_test, ypred_test))\n",
    "\n",
    "r2_train = np.round(r2_score(y_train, ypred_train), decimals=2)\n",
    "r2_test = np.round(r2_score(y_test, ypred_test), decimals=2)\n",
    "\n",
    "mape_train = np.round(100*mean_absolute_percentage_error(np.power(10,y_train), np.power(10,ypred_train)), decimals=1)\n",
    "mape_test = np.round(100*mean_absolute_percentage_error(np.power(10,y_test), np.power(10,ypred_test)), decimals=1)\n",
    "\n",
    "# Print errors\n",
    "print('RMSE: ', rmse_train, rmse_test)\n",
    "print('R2: ', r2_train, r2_test)\n",
    "print('MAPE: ', mape_train, mape_test)\n",
    "\n",
    "x_line = np.linspace(0,1700)\n",
    "y_line = np.linspace(0,1700)\n",
    "\n",
    "plt.scatter(np.power(10,y_train), np.power(10,ypred_train), color='steelblue', s=10, label='Train')\n",
    "plt.scatter(np.power(10,y_test), np.power(10,ypred_test), color='orange', marker='^', s=10, label='Test')\n",
    "plt.plot(x_line,y_line, color='black', linewidth=0.5)\n",
    "plt.xlim(300,1700)\n",
    "plt.ylim(300,1700)\n",
    "plt.xticks([500,1000,1500])\n",
    "plt.yticks([500,1000,1500])\n",
    "plt.xlabel('Observed cycle life')\n",
    "plt.ylabel('Predicted cycle life')\n",
    "plt.legend(loc='upper left')\n",
    "plt.title('New feature model')\n",
    "plt.savefig(r\"C:\\Users\\ife12216\\OneDrive - Institutt for Energiteknikk\\Documents\\Masteroppgave\\ML_github\\out\\MIT\\MITpredictions\\new_model.png\")\n",
    "plt.show()"
   ]
  },
  {
   "cell_type": "code",
   "execution_count": 113,
   "id": "9402e023",
   "metadata": {},
   "outputs": [
    {
     "name": "stdout",
     "output_type": "stream",
     "text": [
      "[-0.04473307 -0.01789968  0.18684466 -0.18952903 -0.06510868  0.01671967\n",
      "  0.05621391  0.         -0.03552524  0.01502131 -0.39642415  0.\n",
      "  0.03945873  0.41049406  0.02930625 -0.01005146 -0.00106221  0.00442219\n",
      " -0.00057314 -0.01523003 -0.01187464  0.01132322  0.03074467]\n"
     ]
    }
   ],
   "source": [
    "print(pipe_EN[1].coef_)"
   ]
  },
  {
   "cell_type": "code",
   "execution_count": 114,
   "id": "a19bd9e2",
   "metadata": {},
   "outputs": [
    {
     "data": {
      "image/png": "[encoded data removed]",
      "text/plain": [
       "<Figure size 864x360 with 2 Axes>"
      ]
     },
     "metadata": {},
     "output_type": "display_data"
    }
   ],
   "source": [
    "# Each feature\n",
    "ypos1 = np.arange(1,24)\n",
    "f = abs(pipe_EN[1].coef_)\n",
    "fnorm = f/sum(f)\n",
    "\n",
    "# Feature categories\n",
    "Q100_10 = sum(fnorm[0:6])\n",
    "cap = sum(fnorm[7:14])\n",
    "temp = sum(fnorm[15:18])\n",
    "IR = sum(fnorm[19:21])\n",
    "charge = fnorm[22]\n",
    "\n",
    "importance = [Q100_10, cap, temp, IR, charge]\n",
    "imp_norm = importance/sum(importance)\n",
    "ypos2 = np.arange(5)\n",
    "\n",
    "\n",
    "names = ['$Q(V)$-\\n related', 'Capacity-\\nrelated', 'Temperature-\\nrelated', 'IR-related', 'charge-related']\n",
    "\n",
    "\n",
    "fig,ax = plt.subplots(ncols=2, figsize=(12,5))\n",
    "\n",
    "\n",
    "ax[0].barh(ypos1, fnorm)\n",
    "ax[0].set_yticks(np.arange(1,24))\n",
    "ax[0].set_xlabel('Feature contribution')\n",
    "ax[0].set_ylabel('Feature number')\n",
    "ax[0].set_title('Contribution of each feature in the MIT data')\n",
    "\n",
    "ax[1].barh(ypos2, imp_norm)\n",
    "ax[1].set_yticks(ypos2)\n",
    "ax[1].set_yticklabels(names)\n",
    "ax[1].set_xlabel('Feature contribution')\n",
    "ax[1].set_title('Feature contribution by category')\n",
    "plt.tight_layout()\n",
    "plt.savefig(r\"C:\\Users\\ife12216\\OneDrive - Institutt for Energiteknikk\\Documents\\Masteroppgave\\ML_github\\out\\MIT\\MITpredictions\\new_model_fcontr.png\")\n",
    "plt.show()"
   ]
  },
  {
   "cell_type": "code",
   "execution_count": 16,
   "id": "88cec6f0",
   "metadata": {},
   "outputs": [
    {
     "ename": "ValueError",
     "evalue": "x and y must be the same size",
     "output_type": "error",
     "traceback": [
      "\u001b[1;31m---------------------------------------------------------------------------\u001b[0m",
      "\u001b[1;31mValueError\u001b[0m                                Traceback (most recent call last)",
      "\u001b[1;32m<ipython-input-16-f4fb0f12dec7>\u001b[0m in \u001b[0;36m<module>\u001b[1;34m\u001b[0m\n\u001b[0;32m      2\u001b[0m \u001b[0my_line\u001b[0m \u001b[1;33m=\u001b[0m \u001b[0mnp\u001b[0m\u001b[1;33m.\u001b[0m\u001b[0mlinspace\u001b[0m\u001b[1;33m(\u001b[0m\u001b[1;36m0\u001b[0m\u001b[1;33m,\u001b[0m\u001b[1;36m1700\u001b[0m\u001b[1;33m)\u001b[0m\u001b[1;33m\u001b[0m\u001b[1;33m\u001b[0m\u001b[0m\n\u001b[0;32m      3\u001b[0m \u001b[1;33m\u001b[0m\u001b[0m\n\u001b[1;32m----> 4\u001b[1;33m \u001b[0mplt\u001b[0m\u001b[1;33m.\u001b[0m\u001b[0mscatter\u001b[0m\u001b[1;33m(\u001b[0m\u001b[0mnp\u001b[0m\u001b[1;33m.\u001b[0m\u001b[0mpower\u001b[0m\u001b[1;33m(\u001b[0m\u001b[1;36m10\u001b[0m\u001b[1;33m,\u001b[0m\u001b[0my_train\u001b[0m\u001b[1;33m)\u001b[0m\u001b[1;33m,\u001b[0m \u001b[0mnp\u001b[0m\u001b[1;33m.\u001b[0m\u001b[0mpower\u001b[0m\u001b[1;33m(\u001b[0m\u001b[1;36m10\u001b[0m\u001b[1;33m,\u001b[0m\u001b[0mprediction_train\u001b[0m\u001b[1;33m)\u001b[0m\u001b[1;33m,\u001b[0m \u001b[0mcolor\u001b[0m\u001b[1;33m=\u001b[0m\u001b[1;34m'steelblue'\u001b[0m\u001b[1;33m,\u001b[0m \u001b[0ms\u001b[0m\u001b[1;33m=\u001b[0m\u001b[1;36m10\u001b[0m\u001b[1;33m,\u001b[0m \u001b[0mlabel\u001b[0m\u001b[1;33m=\u001b[0m\u001b[1;34m'train'\u001b[0m\u001b[1;33m)\u001b[0m\u001b[1;33m\u001b[0m\u001b[1;33m\u001b[0m\u001b[0m\n\u001b[0m\u001b[0;32m      5\u001b[0m \u001b[0mplt\u001b[0m\u001b[1;33m.\u001b[0m\u001b[0mscatter\u001b[0m\u001b[1;33m(\u001b[0m\u001b[0mnp\u001b[0m\u001b[1;33m.\u001b[0m\u001b[0mpower\u001b[0m\u001b[1;33m(\u001b[0m\u001b[1;36m10\u001b[0m\u001b[1;33m,\u001b[0m\u001b[0my_test\u001b[0m\u001b[1;33m)\u001b[0m\u001b[1;33m,\u001b[0m \u001b[0mnp\u001b[0m\u001b[1;33m.\u001b[0m\u001b[0mpower\u001b[0m\u001b[1;33m(\u001b[0m\u001b[1;36m10\u001b[0m\u001b[1;33m,\u001b[0m\u001b[0mprediction_test\u001b[0m\u001b[1;33m)\u001b[0m\u001b[1;33m,\u001b[0m \u001b[0mcolor\u001b[0m\u001b[1;33m=\u001b[0m\u001b[1;34m'orange'\u001b[0m\u001b[1;33m,\u001b[0m \u001b[0mmarker\u001b[0m\u001b[1;33m=\u001b[0m\u001b[1;34m'^'\u001b[0m\u001b[1;33m,\u001b[0m \u001b[0ms\u001b[0m\u001b[1;33m=\u001b[0m\u001b[1;36m10\u001b[0m\u001b[1;33m,\u001b[0m \u001b[0mlabel\u001b[0m\u001b[1;33m=\u001b[0m\u001b[1;34m'test'\u001b[0m\u001b[1;33m)\u001b[0m\u001b[1;33m\u001b[0m\u001b[1;33m\u001b[0m\u001b[0m\n\u001b[0;32m      6\u001b[0m \u001b[0mplt\u001b[0m\u001b[1;33m.\u001b[0m\u001b[0mplot\u001b[0m\u001b[1;33m(\u001b[0m\u001b[0mx_line\u001b[0m\u001b[1;33m,\u001b[0m\u001b[0my_line\u001b[0m\u001b[1;33m,\u001b[0m \u001b[0mcolor\u001b[0m\u001b[1;33m=\u001b[0m\u001b[1;34m'black'\u001b[0m\u001b[1;33m,\u001b[0m \u001b[0mlinewidth\u001b[0m\u001b[1;33m=\u001b[0m\u001b[1;36m0.5\u001b[0m\u001b[1;33m)\u001b[0m\u001b[1;33m\u001b[0m\u001b[1;33m\u001b[0m\u001b[0m\n",
      "\u001b[1;32m~\\Anaconda3\\lib\\site-packages\\matplotlib\\pyplot.py\u001b[0m in \u001b[0;36mscatter\u001b[1;34m(x, y, s, c, marker, cmap, norm, vmin, vmax, alpha, linewidths, verts, edgecolors, plotnonfinite, data, **kwargs)\u001b[0m\n\u001b[0;32m   2888\u001b[0m         \u001b[0mverts\u001b[0m\u001b[1;33m=\u001b[0m\u001b[0mcbook\u001b[0m\u001b[1;33m.\u001b[0m\u001b[0mdeprecation\u001b[0m\u001b[1;33m.\u001b[0m\u001b[0m_deprecated_parameter\u001b[0m\u001b[1;33m,\u001b[0m\u001b[1;33m\u001b[0m\u001b[1;33m\u001b[0m\u001b[0m\n\u001b[0;32m   2889\u001b[0m         edgecolors=None, *, plotnonfinite=False, data=None, **kwargs):\n\u001b[1;32m-> 2890\u001b[1;33m     __ret = gca().scatter(\n\u001b[0m\u001b[0;32m   2891\u001b[0m         \u001b[0mx\u001b[0m\u001b[1;33m,\u001b[0m \u001b[0my\u001b[0m\u001b[1;33m,\u001b[0m \u001b[0ms\u001b[0m\u001b[1;33m=\u001b[0m\u001b[0ms\u001b[0m\u001b[1;33m,\u001b[0m \u001b[0mc\u001b[0m\u001b[1;33m=\u001b[0m\u001b[0mc\u001b[0m\u001b[1;33m,\u001b[0m \u001b[0mmarker\u001b[0m\u001b[1;33m=\u001b[0m\u001b[0mmarker\u001b[0m\u001b[1;33m,\u001b[0m \u001b[0mcmap\u001b[0m\u001b[1;33m=\u001b[0m\u001b[0mcmap\u001b[0m\u001b[1;33m,\u001b[0m \u001b[0mnorm\u001b[0m\u001b[1;33m=\u001b[0m\u001b[0mnorm\u001b[0m\u001b[1;33m,\u001b[0m\u001b[1;33m\u001b[0m\u001b[1;33m\u001b[0m\u001b[0m\n\u001b[0;32m   2892\u001b[0m         \u001b[0mvmin\u001b[0m\u001b[1;33m=\u001b[0m\u001b[0mvmin\u001b[0m\u001b[1;33m,\u001b[0m \u001b[0mvmax\u001b[0m\u001b[1;33m=\u001b[0m\u001b[0mvmax\u001b[0m\u001b[1;33m,\u001b[0m \u001b[0malpha\u001b[0m\u001b[1;33m=\u001b[0m\u001b[0malpha\u001b[0m\u001b[1;33m,\u001b[0m \u001b[0mlinewidths\u001b[0m\u001b[1;33m=\u001b[0m\u001b[0mlinewidths\u001b[0m\u001b[1;33m,\u001b[0m\u001b[1;33m\u001b[0m\u001b[1;33m\u001b[0m\u001b[0m\n",
      "\u001b[1;32m~\\Anaconda3\\lib\\site-packages\\matplotlib\\__init__.py\u001b[0m in \u001b[0;36minner\u001b[1;34m(ax, data, *args, **kwargs)\u001b[0m\n\u001b[0;32m   1445\u001b[0m     \u001b[1;32mdef\u001b[0m \u001b[0minner\u001b[0m\u001b[1;33m(\u001b[0m\u001b[0max\u001b[0m\u001b[1;33m,\u001b[0m \u001b[1;33m*\u001b[0m\u001b[0margs\u001b[0m\u001b[1;33m,\u001b[0m \u001b[0mdata\u001b[0m\u001b[1;33m=\u001b[0m\u001b[1;32mNone\u001b[0m\u001b[1;33m,\u001b[0m \u001b[1;33m**\u001b[0m\u001b[0mkwargs\u001b[0m\u001b[1;33m)\u001b[0m\u001b[1;33m:\u001b[0m\u001b[1;33m\u001b[0m\u001b[1;33m\u001b[0m\u001b[0m\n\u001b[0;32m   1446\u001b[0m         \u001b[1;32mif\u001b[0m \u001b[0mdata\u001b[0m \u001b[1;32mis\u001b[0m \u001b[1;32mNone\u001b[0m\u001b[1;33m:\u001b[0m\u001b[1;33m\u001b[0m\u001b[1;33m\u001b[0m\u001b[0m\n\u001b[1;32m-> 1447\u001b[1;33m             \u001b[1;32mreturn\u001b[0m \u001b[0mfunc\u001b[0m\u001b[1;33m(\u001b[0m\u001b[0max\u001b[0m\u001b[1;33m,\u001b[0m \u001b[1;33m*\u001b[0m\u001b[0mmap\u001b[0m\u001b[1;33m(\u001b[0m\u001b[0msanitize_sequence\u001b[0m\u001b[1;33m,\u001b[0m \u001b[0margs\u001b[0m\u001b[1;33m)\u001b[0m\u001b[1;33m,\u001b[0m \u001b[1;33m**\u001b[0m\u001b[0mkwargs\u001b[0m\u001b[1;33m)\u001b[0m\u001b[1;33m\u001b[0m\u001b[1;33m\u001b[0m\u001b[0m\n\u001b[0m\u001b[0;32m   1448\u001b[0m \u001b[1;33m\u001b[0m\u001b[0m\n\u001b[0;32m   1449\u001b[0m         \u001b[0mbound\u001b[0m \u001b[1;33m=\u001b[0m \u001b[0mnew_sig\u001b[0m\u001b[1;33m.\u001b[0m\u001b[0mbind\u001b[0m\u001b[1;33m(\u001b[0m\u001b[0max\u001b[0m\u001b[1;33m,\u001b[0m \u001b[1;33m*\u001b[0m\u001b[0margs\u001b[0m\u001b[1;33m,\u001b[0m \u001b[1;33m**\u001b[0m\u001b[0mkwargs\u001b[0m\u001b[1;33m)\u001b[0m\u001b[1;33m\u001b[0m\u001b[1;33m\u001b[0m\u001b[0m\n",
      "\u001b[1;32m~\\Anaconda3\\lib\\site-packages\\matplotlib\\cbook\\deprecation.py\u001b[0m in \u001b[0;36mwrapper\u001b[1;34m(*inner_args, **inner_kwargs)\u001b[0m\n\u001b[0;32m    409\u001b[0m                          \u001b[1;32melse\u001b[0m \u001b[0mdeprecation_addendum\u001b[0m\u001b[1;33m,\u001b[0m\u001b[1;33m\u001b[0m\u001b[1;33m\u001b[0m\u001b[0m\n\u001b[0;32m    410\u001b[0m                 **kwargs)\n\u001b[1;32m--> 411\u001b[1;33m         \u001b[1;32mreturn\u001b[0m \u001b[0mfunc\u001b[0m\u001b[1;33m(\u001b[0m\u001b[1;33m*\u001b[0m\u001b[0minner_args\u001b[0m\u001b[1;33m,\u001b[0m \u001b[1;33m**\u001b[0m\u001b[0minner_kwargs\u001b[0m\u001b[1;33m)\u001b[0m\u001b[1;33m\u001b[0m\u001b[1;33m\u001b[0m\u001b[0m\n\u001b[0m\u001b[0;32m    412\u001b[0m \u001b[1;33m\u001b[0m\u001b[0m\n\u001b[0;32m    413\u001b[0m     \u001b[1;32mreturn\u001b[0m \u001b[0mwrapper\u001b[0m\u001b[1;33m\u001b[0m\u001b[1;33m\u001b[0m\u001b[0m\n",
      "\u001b[1;32m~\\Anaconda3\\lib\\site-packages\\matplotlib\\axes\\_axes.py\u001b[0m in \u001b[0;36mscatter\u001b[1;34m(self, x, y, s, c, marker, cmap, norm, vmin, vmax, alpha, linewidths, verts, edgecolors, plotnonfinite, **kwargs)\u001b[0m\n\u001b[0;32m   4439\u001b[0m         \u001b[0my\u001b[0m \u001b[1;33m=\u001b[0m \u001b[0mnp\u001b[0m\u001b[1;33m.\u001b[0m\u001b[0mma\u001b[0m\u001b[1;33m.\u001b[0m\u001b[0mravel\u001b[0m\u001b[1;33m(\u001b[0m\u001b[0my\u001b[0m\u001b[1;33m)\u001b[0m\u001b[1;33m\u001b[0m\u001b[1;33m\u001b[0m\u001b[0m\n\u001b[0;32m   4440\u001b[0m         \u001b[1;32mif\u001b[0m \u001b[0mx\u001b[0m\u001b[1;33m.\u001b[0m\u001b[0msize\u001b[0m \u001b[1;33m!=\u001b[0m \u001b[0my\u001b[0m\u001b[1;33m.\u001b[0m\u001b[0msize\u001b[0m\u001b[1;33m:\u001b[0m\u001b[1;33m\u001b[0m\u001b[1;33m\u001b[0m\u001b[0m\n\u001b[1;32m-> 4441\u001b[1;33m             \u001b[1;32mraise\u001b[0m \u001b[0mValueError\u001b[0m\u001b[1;33m(\u001b[0m\u001b[1;34m\"x and y must be the same size\"\u001b[0m\u001b[1;33m)\u001b[0m\u001b[1;33m\u001b[0m\u001b[1;33m\u001b[0m\u001b[0m\n\u001b[0m\u001b[0;32m   4442\u001b[0m \u001b[1;33m\u001b[0m\u001b[0m\n\u001b[0;32m   4443\u001b[0m         \u001b[1;32mif\u001b[0m \u001b[0ms\u001b[0m \u001b[1;32mis\u001b[0m \u001b[1;32mNone\u001b[0m\u001b[1;33m:\u001b[0m\u001b[1;33m\u001b[0m\u001b[1;33m\u001b[0m\u001b[0m\n",
      "\u001b[1;31mValueError\u001b[0m: x and y must be the same size"
     ]
    },
    {
     "data": {
      "image/png": "[encoded data removed]",
      "text/plain": [
       "<Figure size 576x396 with 1 Axes>"
      ]
     },
     "metadata": {},
     "output_type": "display_data"
    }
   ],
   "source": [
    "x_line = np.linspace(0,1700)\n",
    "y_line = np.linspace(0,1700)\n",
    "\n",
    "plt.scatter(np.power(10,y_train), np.power(10,prediction_train), color='steelblue', s=10, label='train')\n",
    "plt.scatter(np.power(10,y_test), np.power(10,prediction_test), color='orange', marker='^', s=10, label='test')\n",
    "plt.plot(x_line,y_line, color='black', linewidth=0.5)\n",
    "plt.xlim(300,1700)\n",
    "plt.ylim(300,1700)\n",
    "plt.xticks([500,1000,1500])\n",
    "plt.yticks([500,1000,1500])\n",
    "plt.xlabel('observed cycle life') \n",
    "plt.ylabel('predicted cycle life')\n",
    "plt.legend()\n",
    "plt.title('EN model new')\n",
    "plt.savefig(r\"C:\\Users\\ife12216\\OneDrive - Institutt for Energiteknikk\\Documents\\Masteroppgave\\ML_github\\out\\MIT\\MITpredictions\\new_model.png\")"
   ]
  }
 ],
 "metadata": {
  "kernelspec": {
   "display_name": "Python 3",
   "language": "python",
   "name": "python3"
  },
  "language_info": {
   "codemirror_mode": {
    "name": "ipython",
    "version": 3
   },
   "file_extension": ".py",
   "mimetype": "text/x-python",
   "name": "python",
   "nbconvert_exporter": "python",
   "pygments_lexer": "ipython3",
   "version": "3.8.8"
  }
 },
 "nbformat": 4,
 "nbformat_minor": 5
}
