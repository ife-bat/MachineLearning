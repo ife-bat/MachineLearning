{
 "cells": [
  {
   "cell_type": "markdown",
   "id": "cae3333a",
   "metadata": {},
   "source": [
    "# Notebook for making interim IFE data\n",
    "\n",
    "_Since we need to relate cycling data to cycle life for each cell, it is practical to have all the data for each cell gathered in seperate directories._\n",
    "\n",
    "__Original data structure:__\n",
    "- \\cycles_data\n",
    "    - one summary file for every cell\n",
    "- \\curves_data\n",
    "    - one file for every charge and every discharge cycle for every cell\n",
    "\n",
    "\n",
    "__Data structure for interim data (in Github repository)__\n",
    "- \\interim\n",
    "    - \\cell 1\n",
    "        - summary file\n",
    "        - C20 cycles\n",
    "            - all charge/discharge characterization cycles\n",
    "    - \\cell 2\n",
    "    - ...\n",
    "        "
   ]
  },
  {
   "cell_type": "code",
   "execution_count": 2,
   "id": "20157754",
   "metadata": {},
   "outputs": [],
   "source": [
    "import pandas as pd\n",
    "import numpy as np\n",
    "import matplotlib.pyplot as plt\n",
    "import matplotlib as mpl\n",
    "import os, random\n",
    "import pathlib\n",
    "import glob\n",
    "import shutil"
   ]
  },
  {
   "cell_type": "markdown",
   "id": "594b9b6b",
   "metadata": {},
   "source": [
    "### Make interim data"
   ]
  },
  {
   "cell_type": "code",
   "execution_count": 5,
   "id": "072b9c01",
   "metadata": {},
   "outputs": [
    {
     "data": {
      "text/plain": [
       "'\\n\\nfor summary_file in (os.listdir(cycles_path)[0:2]):\\n    f = os.path.join(cycles_path,summary_file)\\n    df = pd.read_csv(f, encoding = \"ISO-8859-1\", sep=\\'\\t\\')\\n    df = df.loc[df[\\'Current_dch (C)\\'] == -0.05]\\n    tasks = df[\\'Tasks\\'].values\\n    for task in tasks:\\n        for curve_file in(glob.glob(os.path.join(curves_path, \\'*\\' + str(task) + \\'_3*\\'))):\\n            if not(os.path.exists())\\n            print(curve_file)\\n\\n\\nfor ID in cell_id[0:11]:\\n    for curve_file in glob.glob(os.path.join(curves_path, ID + \\'*\\')): # Look for files with correct cell id\\n        TargetSubDir = os.path.join(TargetPath, ID)\\n        if not(os.path.exists(TargetSubDir)):\\n            os.mkdir(TargetSubDir)\\n            os.mkdir(os.path.join(TargetSubDir, \\'C20_cycles\\'))\\n        #shutil.copy(curve_file, TargetSubDir)\\n    #for cycle_file in glob.glob(os.path.join(cycles_path, ID + \\'*\\')):\\n        #shutil.copy(cycle_file, TargetSubDir)\\n'"
      ]
     },
     "execution_count": 5,
     "metadata": {},
     "output_type": "execute_result"
    }
   ],
   "source": [
    "curves_path = r\"C:\\Users\\ife12216\\OneDrive - Institutt for Energiteknikk\\Documents\\Masteroppgave\\IFEData\\LG_JP3\\curves_data\"\n",
    "cycles_path = r\"C:\\Users\\ife12216\\OneDrive - Institutt for Energiteknikk\\Documents\\Masteroppgave\\IFEData\\LG_JP3\\cycle_data\"\n",
    "interim_path = r\"C:\\Users\\ife12216\\OneDrive - Institutt for Energiteknikk\\Documents\\Masteroppgave\\ML_github\\data\\IFE\\interim\"\n",
    "cell_id = []\n",
    "\n",
    "# Make cell directories if summary file contains more than 100 cycles (exclude shelf life cells)\n",
    "# Also add the summary file to the directory\n",
    "for filename in os.listdir(cycles_path):\n",
    "    f = os.path.join(cycles_path,filename)\n",
    "    df = pd.read_csv(f, encoding = \"ISO-8859-1\", sep='\\t')\n",
    "    if(len(df.index) > 100): # Gets rid of shelf-life cells\n",
    "        cell_id.append(filename[:18]) # Only cell-id part of file name\n",
    "        cell_path = os.path.join(interim_path, filename[:18])\n",
    "        if not(os.path.exists(cell_path)):\n",
    "            os.mkdir(cell_path)\n",
    "            shutil.copy(f, cell_path)\n",
    "\n",
    "\n",
    "# Make C20 cycles directory and add the cycles (its the 3rd cycle in each test that has characterization)\n",
    "for foldername in os.listdir(interim_path):\n",
    "    cell_dir = os.path.join(interim_path, foldername)\n",
    "    C20_dir = os.path.join(cell_dir, 'C20_cycles')\n",
    "    summary_file = os.path.join(cell_dir, os.listdir(cell_dir)[0])\n",
    "    summary_df = pd.read_csv(summary_file, encoding = \"ISO-8859-1\", sep='\\t')\n",
    "    summary_df = summary_df.loc[summary_df['Current_dch (C)'] == -0.05]\n",
    "    tasks = summary_df['Tasks'].values\n",
    "    if not(os.path.exists(C20_dir)):\n",
    "        os.mkdir(C20_dir)\n",
    "        for task in tasks:\n",
    "            for curve_file in(glob.glob(os.path.join(curves_path, '*' + str(task) + '_3*'))):\n",
    "                shutil.copy(curve_file, C20_dir)"
   ]
  },
  {
   "cell_type": "markdown",
   "id": "b6d6f526",
   "metadata": {},
   "source": [
    "### Testing stuff"
   ]
  },
  {
   "cell_type": "code",
   "execution_count": null,
   "id": "08823e7e",
   "metadata": {},
   "outputs": [],
   "source": []
  }
 ],
 "metadata": {
  "kernelspec": {
   "display_name": "Python 3",
   "language": "python",
   "name": "python3"
  },
  "language_info": {
   "codemirror_mode": {
    "name": "ipython",
    "version": 3
   },
   "file_extension": ".py",
   "mimetype": "text/x-python",
   "name": "python",
   "nbconvert_exporter": "python",
   "pygments_lexer": "ipython3",
   "version": "3.8.8"
  }
 },
 "nbformat": 4,
 "nbformat_minor": 5
}
