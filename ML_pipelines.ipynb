{
 "cells": [
  {
   "cell_type": "markdown",
   "id": "5c64838d",
   "metadata": {},
   "source": [
    "# Machine Learning Pipeline for cycle life prediction\n",
    "\n",
    "last edit: 28.03.2022\n",
    "\n",
    "This Notebook reads in data from processed files, generates model features, and makes pipelines for different machine learning models for predicting cycle life. "
   ]
  },
  {
   "cell_type": "code",
   "execution_count": 1,
   "id": "26ff6364",
   "metadata": {},
   "outputs": [],
   "source": [
    "import pandas as pd\n",
    "import numpy as np\n",
    "import matplotlib.pyplot as plt\n",
    "import os, random\n",
    "\n",
    "from scipy.stats import skew, kurtosis"
   ]
  },
  {
   "cell_type": "code",
   "execution_count": 2,
   "id": "45d1887e",
   "metadata": {},
   "outputs": [
    {
     "name": "stdout",
     "output_type": "stream",
     "text": [
      "137 137 137 137\n"
     ]
    }
   ],
   "source": [
    "summary = []\n",
    "c10 = []\n",
    "c100 = []\n",
    "Qd100_10 = []\n",
    "\n",
    "dir_summary = r\"C:\\Users\\ife12216\\OneDrive - Institutt for Energiteknikk\\Documents\\Masteroppgave\\ML_github\\data\\interim\\summary\"\n",
    "dir_c10 = r\"C:\\Users\\ife12216\\OneDrive - Institutt for Energiteknikk\\Documents\\Masteroppgave\\ML_github\\data\\interim\\cycles_interpolated\\cycle10_discharge\"\n",
    "dir_c100 = r\"C:\\Users\\ife12216\\OneDrive - Institutt for Energiteknikk\\Documents\\Masteroppgave\\ML_github\\data\\interim\\cycles_interpolated\\cycle100_discharge\"\n",
    "dir_Qd100_10 = r\"C:\\Users\\ife12216\\OneDrive - Institutt for Energiteknikk\\Documents\\Masteroppgave\\ML_github\\data\\interim\\cycles_interpolated\\DeltaQ100_10_discharge\"\n",
    "\n",
    "for file in range(len(os.listdir(dir_summary))):\n",
    "    f1 = os.path.join(dir_summary, os.listdir(dir_summary)[file])\n",
    "    summary.append(pd.read_csv(f1))\n",
    "    \n",
    "    f2 = os.path.join(dir_c10, os.listdir(dir_c10)[file])\n",
    "    c10.append(pd.read_csv(f2))\n",
    "    \n",
    "    f3 = os.path.join(dir_c100, os.listdir(dir_c100)[file])\n",
    "    c100.append(pd.read_csv(f3))\n",
    "    \n",
    "    f4 = os.path.join(dir_Qd100_10, os.listdir(dir_Qd100_10)[file])\n",
    "    Qd100_10.append(pd.read_csv(f4))\n",
    "    \n",
    "print(len(summary), len(c10), len(c100), len(Qd100_10))"
   ]
  },
  {
   "cell_type": "code",
   "execution_count": 23,
   "id": "3ea02e79",
   "metadata": {},
   "outputs": [
    {
     "name": "stdout",
     "output_type": "stream",
     "text": [
      "135\n"
     ]
    }
   ],
   "source": [
    "times = []\n",
    "for i in range(len(summary)):\n",
    "    if(summary[i].index[-1] > 250):\n",
    "        times.append(summary[i].index[-1])\n",
    "print(len(times))"
   ]
  },
  {
   "cell_type": "markdown",
   "id": "ea69467b",
   "metadata": {},
   "source": [
    "# Feature Generation\n",
    "\n",
    "The features can be split into three categories:\n",
    "\n",
    "Features based on $\\Delta Q_{100-10}(V)$\n",
    "- f1: min$(\\Delta Q_{100-10}(V))$\n",
    "- f2: mean$(\\Delta Q_{100-10}(V))$\n",
    "- f3: var$(\\Delta Q_{100-10}(V))$\n",
    "- f4: skewness$(\\Delta Q_{100-10}(V))$\n",
    "- f5: kurtosis$(\\Delta Q_{100-10}(V))$\n",
    "\n",
    "Features based on the discharge capacity fade curves\n",
    "- f6: Slope of the linear fit to the capacity fade curve, cycles 2 to 100\n",
    "- f7: Intercept of the linear fit to capacity fade curve, cycles 2 to 100\n",
    "- f8: Slope of the linear fit to the capacity fade curve, cycles 91 to 100\n",
    "- f9: Intercept of the linear fit to capacity fade curve, cycles 91 to 100\n",
    "- f10: Discharge capacity, cycle 2\n",
    "- f11: Difference between max discharge capacity and cycle 2\n",
    "- f12: Discharge capacity, cycle 100\n",
    "\n",
    "Other features\n",
    "- f13: Average charge time, first 5 cycles\n",
    "- f14: Maximum temperature, cycles 2 to 100\n",
    "- f15: Minimum temperature, cycles 2 to 100\n",
    "- f16: Integral of temperature over time, cycles 2 to 100\n",
    "- f17: Internal resistance, cycle 2\n",
    "- f18: Minimum internal resistance, cycles 2 to 100\n",
    "- f19: Internal resistance, difference between cycle 100 and cycle 2\n",
    "\n",
    "\n",
    "\n",
    "The features are extracted in the cell below."
   ]
  },
  {
   "cell_type": "code",
   "execution_count": 27,
   "id": "2217a93d",
   "metadata": {},
   "outputs": [
    {
     "name": "stdout",
     "output_type": "stream",
     "text": [
      "(137, 19)\n",
      "(137,)\n"
     ]
    }
   ],
   "source": [
    "p = 19 # number of features, p\n",
    "n = len(summary) # number of samples, n\n",
    "\n",
    "# Target vector\n",
    "y = np.zeros((n)) # (samples)\n",
    "\n",
    "# Design matrix\n",
    "X = np.zeros((n,p)) # (samples x features)\n",
    "\n",
    "# Q100-10 features f1-f5\n",
    "for i in range(len(Qd100_10)):  \n",
    "    X[i,0] = np.log10(abs(np.amin(Qd100_10[i]['discharge_capacity'].values)))\n",
    "    X[i,1] = np.log10(abs(np.mean(Qd100_10[i]['discharge_capacity'].values)))\n",
    "    X[i,2] = np.log10(float(np.var(Qd100_10[i]['discharge_capacity'].values)))\n",
    "    X[i,3] = np.log10(abs(skew(Qd100_10[i]['discharge_capacity'].values)))\n",
    "    X[i,4] = np.log10(abs(kurtosis(Qd100_10[i]['discharge_capacity'].values)))\n",
    "\n",
    "# Per cycle features\n",
    "for i in range(len(summary)):\n",
    "    y[i] = np.log10(summary[i].index[-1])\n",
    "    \n",
    "    slope100_2 = float((summary[i]['discharge_capacity'][99] - summary[i]['discharge_capacity'][1])/98) #dQd / dcycle\n",
    "    slope100_91 = float((summary[i]['discharge_capacity'][99] - summary[i]['discharge_capacity'][90])/9)\n",
    "    intercept100_2 = summary[i]['discharge_capacity'][9] - slope100_2*10 # b = y-mx\n",
    "    intercept100_91 = summary[i]['discharge_capacity'][9] - slope100_91*10 # b = y-mx\n",
    "    diff = np.amax(summary[i]['discharge_capacity'][1:-1]) - summary[i]['discharge_capacity'][1]\n",
    "    \n",
    "    # Capacity fade features\n",
    "    X[i,5] = slope100_2\n",
    "    X[i,6] = intercept100_2\n",
    "    X[i,7] = slope100_91\n",
    "    X[i,8] = intercept100_91\n",
    "    X[i,9] = summary[i]['discharge_capacity'][1]\n",
    "    X[i,10] = diff\n",
    "    X[i,11] = summary[i]['discharge_capacity'][99]\n",
    "    \n",
    "    # Other features\n",
    "    X[i,12] = np.mean(summary[i]['charge_duration'][1:6])\n",
    "    X[i,13] = np.amax(summary[i]['temperature_maximum'][1:99])\n",
    "    X[i,14] = np.amin(summary[i]['temperature_minimum'][1:99])\n",
    "    X[i,15] = np.mean(summary[i]['time_temperature_integrated'][1:99])\n",
    "    X[i,16] = summary[i]['dc_internal_resistance'][1]\n",
    "    X[i,17] = np.amin(summary[i]['dc_internal_resistance'][1:99])\n",
    "    X[i,18] = summary[i]['dc_internal_resistance'][99] - summary[i]['dc_internal_resistance'][1]\n",
    "\n",
    "print(X.shape)\n",
    "print(y.shape)"
   ]
  },
  {
   "cell_type": "markdown",
   "id": "0d1a13e7",
   "metadata": {},
   "source": [
    "### Make Pipelines"
   ]
  },
  {
   "cell_type": "code",
   "execution_count": 38,
   "id": "90a5415f",
   "metadata": {},
   "outputs": [],
   "source": [
    "from sklearn.pipeline import Pipeline\n",
    "from sklearn.linear_model import ElasticNetCV\n",
    "from sklearn.gaussian_process.kernels import ExpSineSquared\n",
    "from sklearn.gaussian_process import GaussianProcessRegressor\n",
    "from sklearn.svm import SVR\n",
    "from sklearn.ensemble import RandomForestRegressor\n",
    "from sklearn.neural_network import MLPRegressor\n",
    "from sklearn.preprocessing import StandardScaler\n",
    "from sklearn.model_selection import train_test_split, StratifiedKFold\n",
    "\n",
    "from functions import get_errors"
   ]
  },
  {
   "cell_type": "code",
   "execution_count": 63,
   "id": "cafa687a",
   "metadata": {},
   "outputs": [],
   "source": [
    "# Make dictionary of hyperparameters?\n",
    "\n",
    "# Elastic net pipeline\n",
    "alphas = [0.1,0.3,0.5,0.7,0.9,0.95,0.99,1]\n",
    "\n",
    "pipe_EN = Pipeline([('scaler', StandardScaler()), ('estimator', ElasticNetCV(cv=10, l1_ratio=alphas, max_iter=10000))])\n",
    "\n",
    "# Random Forest pipeline\n",
    "pipe_RF = Pipeline([('scaler', StandardScaler()), ('estimator', RandomForestRegressor())])\n",
    "\n",
    "# Gaussian Process Regression\n",
    "kernel = ExpSineSquared()\n",
    "pipe_GPR = Pipeline([('scaler', StandardScaler()), ('estimator', GaussianProcessRegressor(kernel=kernel, alpha=8))])\n",
    "\n",
    "# Support Vector Machine\n",
    "pipe_SVR = Pipeline([('scaler', StandardScaler()), ('estimator', SVR())])\n",
    "\n",
    "# Neural Network\n",
    "pipe_MLP = Pipeline([('scaler', StandardScaler()), ('estimator', MLPRegressor(max_iter=1000))])"
   ]
  },
  {
   "cell_type": "code",
   "execution_count": 64,
   "id": "68252806",
   "metadata": {},
   "outputs": [
    {
     "name": "stdout",
     "output_type": "stream",
     "text": [
      "\n",
      "Elastic Net\n"
     ]
    },
    {
     "data": {
      "text/html": [
       "<div>\n",
       "<style scoped>\n",
       "    .dataframe tbody tr th:only-of-type {\n",
       "        vertical-align: middle;\n",
       "    }\n",
       "\n",
       "    .dataframe tbody tr th {\n",
       "        vertical-align: top;\n",
       "    }\n",
       "\n",
       "    .dataframe thead th {\n",
       "        text-align: right;\n",
       "    }\n",
       "</style>\n",
       "<table border=\"1\" class=\"dataframe\">\n",
       "  <thead>\n",
       "    <tr style=\"text-align: right;\">\n",
       "      <th></th>\n",
       "      <th>RMSE</th>\n",
       "      <th>RMSE CYCLES</th>\n",
       "      <th>R2 SCORE</th>\n",
       "      <th>MAPE</th>\n",
       "    </tr>\n",
       "  </thead>\n",
       "  <tbody>\n",
       "    <tr>\n",
       "      <th>train</th>\n",
       "      <td>0.003356</td>\n",
       "      <td>160.909335</td>\n",
       "      <td>0.894725</td>\n",
       "      <td>0.014393</td>\n",
       "    </tr>\n",
       "    <tr>\n",
       "      <th>test</th>\n",
       "      <td>0.005032</td>\n",
       "      <td>152.785183</td>\n",
       "      <td>0.850181</td>\n",
       "      <td>0.017710</td>\n",
       "    </tr>\n",
       "  </tbody>\n",
       "</table>\n",
       "</div>"
      ],
      "text/plain": [
       "           RMSE  RMSE CYCLES  R2 SCORE      MAPE\n",
       "train  0.003356   160.909335  0.894725  0.014393\n",
       "test   0.005032   152.785183  0.850181  0.017710"
      ]
     },
     "metadata": {},
     "output_type": "display_data"
    },
    {
     "name": "stdout",
     "output_type": "stream",
     "text": [
      "\n",
      "Random Forest\n"
     ]
    },
    {
     "data": {
      "text/html": [
       "<div>\n",
       "<style scoped>\n",
       "    .dataframe tbody tr th:only-of-type {\n",
       "        vertical-align: middle;\n",
       "    }\n",
       "\n",
       "    .dataframe tbody tr th {\n",
       "        vertical-align: top;\n",
       "    }\n",
       "\n",
       "    .dataframe thead th {\n",
       "        text-align: right;\n",
       "    }\n",
       "</style>\n",
       "<table border=\"1\" class=\"dataframe\">\n",
       "  <thead>\n",
       "    <tr style=\"text-align: right;\">\n",
       "      <th></th>\n",
       "      <th>RMSE</th>\n",
       "      <th>RMSE CYCLES</th>\n",
       "      <th>R2 SCORE</th>\n",
       "      <th>MAPE</th>\n",
       "    </tr>\n",
       "  </thead>\n",
       "  <tbody>\n",
       "    <tr>\n",
       "      <th>train</th>\n",
       "      <td>0.000861</td>\n",
       "      <td>68.134166</td>\n",
       "      <td>0.973009</td>\n",
       "      <td>0.006770</td>\n",
       "    </tr>\n",
       "    <tr>\n",
       "      <th>test</th>\n",
       "      <td>0.007513</td>\n",
       "      <td>185.312723</td>\n",
       "      <td>0.776302</td>\n",
       "      <td>0.018862</td>\n",
       "    </tr>\n",
       "  </tbody>\n",
       "</table>\n",
       "</div>"
      ],
      "text/plain": [
       "           RMSE  RMSE CYCLES  R2 SCORE      MAPE\n",
       "train  0.000861    68.134166  0.973009  0.006770\n",
       "test   0.007513   185.312723  0.776302  0.018862"
      ]
     },
     "metadata": {},
     "output_type": "display_data"
    },
    {
     "name": "stdout",
     "output_type": "stream",
     "text": [
      "\n",
      "Gaussian Process Regression\n"
     ]
    },
    {
     "data": {
      "text/html": [
       "<div>\n",
       "<style scoped>\n",
       "    .dataframe tbody tr th:only-of-type {\n",
       "        vertical-align: middle;\n",
       "    }\n",
       "\n",
       "    .dataframe tbody tr th {\n",
       "        vertical-align: top;\n",
       "    }\n",
       "\n",
       "    .dataframe thead th {\n",
       "        text-align: right;\n",
       "    }\n",
       "</style>\n",
       "<table border=\"1\" class=\"dataframe\">\n",
       "  <thead>\n",
       "    <tr style=\"text-align: right;\">\n",
       "      <th></th>\n",
       "      <th>RMSE</th>\n",
       "      <th>RMSE CYCLES</th>\n",
       "      <th>R2 SCORE</th>\n",
       "      <th>MAPE</th>\n",
       "    </tr>\n",
       "  </thead>\n",
       "  <tbody>\n",
       "    <tr>\n",
       "      <th>train</th>\n",
       "      <td>0.081798</td>\n",
       "      <td>508.691292</td>\n",
       "      <td>-1.565635</td>\n",
       "      <td>0.079929</td>\n",
       "    </tr>\n",
       "    <tr>\n",
       "      <th>test</th>\n",
       "      <td>0.085034</td>\n",
       "      <td>528.558630</td>\n",
       "      <td>-1.531867</td>\n",
       "      <td>0.081766</td>\n",
       "    </tr>\n",
       "  </tbody>\n",
       "</table>\n",
       "</div>"
      ],
      "text/plain": [
       "           RMSE  RMSE CYCLES  R2 SCORE      MAPE\n",
       "train  0.081798   508.691292 -1.565635  0.079929\n",
       "test   0.085034   528.558630 -1.531867  0.081766"
      ]
     },
     "metadata": {},
     "output_type": "display_data"
    },
    {
     "name": "stdout",
     "output_type": "stream",
     "text": [
      "\n",
      "Support Vector Machine\n"
     ]
    },
    {
     "data": {
      "text/html": [
       "<div>\n",
       "<style scoped>\n",
       "    .dataframe tbody tr th:only-of-type {\n",
       "        vertical-align: middle;\n",
       "    }\n",
       "\n",
       "    .dataframe tbody tr th {\n",
       "        vertical-align: top;\n",
       "    }\n",
       "\n",
       "    .dataframe thead th {\n",
       "        text-align: right;\n",
       "    }\n",
       "</style>\n",
       "<table border=\"1\" class=\"dataframe\">\n",
       "  <thead>\n",
       "    <tr style=\"text-align: right;\">\n",
       "      <th></th>\n",
       "      <th>RMSE</th>\n",
       "      <th>RMSE CYCLES</th>\n",
       "      <th>R2 SCORE</th>\n",
       "      <th>MAPE</th>\n",
       "    </tr>\n",
       "  </thead>\n",
       "  <tbody>\n",
       "    <tr>\n",
       "      <th>train</th>\n",
       "      <td>0.004366</td>\n",
       "      <td>140.339254</td>\n",
       "      <td>0.863073</td>\n",
       "      <td>0.019866</td>\n",
       "    </tr>\n",
       "    <tr>\n",
       "      <th>test</th>\n",
       "      <td>0.013672</td>\n",
       "      <td>244.834904</td>\n",
       "      <td>0.592928</td>\n",
       "      <td>0.026435</td>\n",
       "    </tr>\n",
       "  </tbody>\n",
       "</table>\n",
       "</div>"
      ],
      "text/plain": [
       "           RMSE  RMSE CYCLES  R2 SCORE      MAPE\n",
       "train  0.004366   140.339254  0.863073  0.019866\n",
       "test   0.013672   244.834904  0.592928  0.026435"
      ]
     },
     "metadata": {},
     "output_type": "display_data"
    },
    {
     "name": "stdout",
     "output_type": "stream",
     "text": [
      "\n",
      "Multi-Layer Perceptron\n"
     ]
    },
    {
     "data": {
      "text/html": [
       "<div>\n",
       "<style scoped>\n",
       "    .dataframe tbody tr th:only-of-type {\n",
       "        vertical-align: middle;\n",
       "    }\n",
       "\n",
       "    .dataframe tbody tr th {\n",
       "        vertical-align: top;\n",
       "    }\n",
       "\n",
       "    .dataframe thead th {\n",
       "        text-align: right;\n",
       "    }\n",
       "</style>\n",
       "<table border=\"1\" class=\"dataframe\">\n",
       "  <thead>\n",
       "    <tr style=\"text-align: right;\">\n",
       "      <th></th>\n",
       "      <th>RMSE</th>\n",
       "      <th>RMSE CYCLES</th>\n",
       "      <th>R2 SCORE</th>\n",
       "      <th>MAPE</th>\n",
       "    </tr>\n",
       "  </thead>\n",
       "  <tbody>\n",
       "    <tr>\n",
       "      <th>train</th>\n",
       "      <td>0.035664</td>\n",
       "      <td>393.400547</td>\n",
       "      <td>-0.118634</td>\n",
       "      <td>0.049817</td>\n",
       "    </tr>\n",
       "    <tr>\n",
       "      <th>test</th>\n",
       "      <td>0.232113</td>\n",
       "      <td>2233.585572</td>\n",
       "      <td>-5.911149</td>\n",
       "      <td>0.133284</td>\n",
       "    </tr>\n",
       "  </tbody>\n",
       "</table>\n",
       "</div>"
      ],
      "text/plain": [
       "           RMSE  RMSE CYCLES  R2 SCORE      MAPE\n",
       "train  0.035664   393.400547 -0.118634  0.049817\n",
       "test   0.232113  2233.585572 -5.911149  0.133284"
      ]
     },
     "metadata": {},
     "output_type": "display_data"
    }
   ],
   "source": [
    "X_train, X_test, y_train, y_test = train_test_split(X, y, test_size=0.3) # Find out stratify when time\n",
    "\n",
    "pipelines = [pipe_EN, pipe_RF, pipe_GPR, pipe_SVR, pipe_MLP]\n",
    "pipeline_names = {0:'Elastic Net', 1:'Random Forest', 2:'Gaussian Process Regression', 3:'Support Vector Machine', 4:'Multi-Layer Perceptron'}\n",
    "\n",
    "for i in range(len(pipelines)): \n",
    "    pipelines[i].fit(X_train, y_train)\n",
    "    ypred_train = pipelines[i].predict(X_train)\n",
    "    ypred_test = pipelines[i].predict(X_test)\n",
    "    \n",
    "    errors = get_errors(y_train, y_test, ypred_train, ypred_test)\n",
    "    errors_table = pd.DataFrame({'RMSE': [errors[0], errors[1]], 'RMSE CYCLES': [errors[2],errors[3]],\\\n",
    "                       'R2 SCORE': [errors[4],errors[5]] ,'MAPE': [errors[6],errors[7]]}, index=['train', 'test'])\n",
    "    \n",
    "    print(\"\")\n",
    "    print(pipeline_names[i])\n",
    "    display(errors_table)"
   ]
  }
 ],
 "metadata": {
  "kernelspec": {
   "display_name": "Python 3",
   "language": "python",
   "name": "python3"
  },
  "language_info": {
   "codemirror_mode": {
    "name": "ipython",
    "version": 3
   },
   "file_extension": ".py",
   "mimetype": "text/x-python",
   "name": "python",
   "nbconvert_exporter": "python",
   "pygments_lexer": "ipython3",
   "version": "3.8.8"
  }
 },
 "nbformat": 4,
 "nbformat_minor": 5
}
