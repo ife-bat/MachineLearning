{
 "cells": [
  {
   "cell_type": "markdown",
   "id": "73b020a1",
   "metadata": {},
   "source": [
    "### Prøv\n",
    "\n",
    "- Finn ut hvordan alternativt definere cycle life. Kapasitet i en c20 syklus rundt et visst antall?\n",
    "- Bruk excel-ark og prøv å finne så store grupper som mulig med betingelser\n",
    "- Finn c20-sykluser i nærheten av hverandre\n",
    "- Begynn å tenke på vanlige cycle data, hvordan plukke ut riktige sykluser, gjennomsnitt av et intervall? Må vel gjøres i makeinterimdataife"
   ]
  },
  {
   "cell_type": "code",
   "execution_count": 1,
   "id": "046ec49f",
   "metadata": {},
   "outputs": [],
   "source": [
    "import pandas as pd\n",
    "import numpy as np\n",
    "import matplotlib.pyplot as plt\n",
    "import matplotlib as mpl\n",
    "import os, random\n",
    "import pathlib\n",
    "import glob\n",
    "\n",
    "pd.set_option('display.max_columns', 100)\n",
    "\n",
    "from sklearn.pipeline import Pipeline\n",
    "from sklearn.linear_model import ElasticNetCV\n",
    "from sklearn.preprocessing import StandardScaler\n",
    "from sklearn.model_selection import train_test_split, StratifiedKFold\n",
    "from functions import get_errors\n",
    "from sklearn.metrics import mean_squared_error, r2_score"
   ]
  },
  {
   "cell_type": "markdown",
   "id": "15b3095e",
   "metadata": {},
   "source": [
    "# Dictionary for all cells"
   ]
  },
  {
   "cell_type": "code",
   "execution_count": 40,
   "id": "e68802dd",
   "metadata": {},
   "outputs": [],
   "source": [
    "# Make a nested dictionary to easily access all data. first keys are cell-ids, second keys are charge, discharge or summary data\n",
    "# Only c20 cycles are included at this point\n",
    "cell_dict = {}\n",
    "\n",
    "path_cells = r\"C:\\Users\\ife12216\\OneDrive - Institutt for Energiteknikk\\Documents\\Masteroppgave\\ML_github\\data\\IFE\\interim\"\n",
    "\n",
    "# Loop through cells\n",
    "for cell in os.listdir(path_cells)[1:]: # Exclude Cell_ID_MSB19108E0\n",
    "    \n",
    "    # Make summary dataframes\n",
    "    cell_dir = os.path.join(path_cells, cell)\n",
    "    summary_file = os.path.join(cell_dir, os.listdir(cell_dir)[1])\n",
    "    summary_df = pd.read_csv(summary_file, encoding = \"ISO-8859-1\", sep='\\t')\n",
    "    \n",
    "    charge_cycles = []\n",
    "    discharge_cycles = []\n",
    "    cell_dict[cell] = {} # each cell is a new dictionary\n",
    "    \n",
    "    c20_dir = os.path.join(path_cells, cell+'\\C20_cycles')\n",
    "    \n",
    "    # Loop through files with charge cycles and add them to list\n",
    "    for charge_cycle in glob.glob(os.path.join(c20_dir, '*cha.txt')):\n",
    "        charge_cycle_file = os.path.join(c20_dir, charge_cycle)\n",
    "        charge_cycle_df = pd.read_csv(charge_cycle_file, encoding = \"ISO-8859-1\", sep='\\t')\n",
    "        charge_cycles.append(charge_cycle_df)\n",
    "    \n",
    "    # Loop through files with discharge cycles and add them to list\n",
    "    for discharge_cycle in glob.glob(os.path.join(c20_dir, '*dch.txt')):\n",
    "        discharge_cycle_file = os.path.join(c20_dir, discharge_cycle)\n",
    "        discharge_cycle_df = pd.read_csv(discharge_cycle_file, encoding = \"ISO-8859-1\", sep='\\t')\n",
    "        discharge_cycles.append(discharge_cycle_df)\n",
    "\n",
    "    # Add summary, charge cycles and discharge cycles to cell dictionary\n",
    "    cell_dict[cell]['summary'] = summary_df\n",
    "    cell_dict[cell]['charge'] = charge_cycles\n",
    "    cell_dict[cell]['discharge'] = discharge_cycles"
   ]
  },
  {
   "cell_type": "markdown",
   "id": "b90e7fb6",
   "metadata": {},
   "source": [
    "### Dictionary for 12 cell block\n",
    "- SOC window 0-100\n",
    "- C-rate 0.75\n",
    "- Varying temperature"
   ]
  },
  {
   "cell_type": "code",
   "execution_count": 28,
   "id": "ba6e9cdd",
   "metadata": {},
   "outputs": [],
   "source": [
    "# Make a nested dictionary to easily access all data. first keys are cell-ids, second keys are charge, discharge or summary data\n",
    "# Only c20 cycles are included at this point\n",
    "cell_dict2 = {}\n",
    "\n",
    "path_cells = r\"C:\\Users\\ife12216\\OneDrive - Institutt for Energiteknikk\\Documents\\Masteroppgave\\ML_github\\data\\IFE\\interim\"\n",
    "\n",
    "ids = ['SK04A2C085', 'SK04A20099', 'SK04A2C614', 'SK04A2B993', 'SK04A2D001', 'SK04A2B589', 'SK04A27576', 'SK04A2C604',\\\n",
    "      'SK06A10382', 'SK05A30027', 'SK05A16047', 'SK04A14442']\n",
    "\n",
    "# Loop through cells\n",
    "i = 0\n",
    "for i in range(len(ids)):\n",
    "    cell = 'Cell_ID_' + ids[i]\n",
    "    # Make summary dataframes\n",
    "    cell_dir = os.path.join(path_cells, cell)\n",
    "    summary_file = os.path.join(cell_dir, os.listdir(cell_dir)[1])\n",
    "    summary_df = pd.read_csv(summary_file, encoding = \"ISO-8859-1\", sep='\\t')\n",
    "    \n",
    "    charge_cycles = []\n",
    "    discharge_cycles = []\n",
    "    cell_dict2[cell] = {} # each cell is a new dictionary\n",
    "    \n",
    "    c20_dir = os.path.join(path_cells, cell+'\\C20_cycles')\n",
    "    \n",
    "    # Loop through files with charge cycles and add them to list\n",
    "    for charge_cycle in glob.glob(os.path.join(c20_dir, '*cha.txt')):\n",
    "        charge_cycle_file = os.path.join(c20_dir, charge_cycle)\n",
    "        charge_cycle_df = pd.read_csv(charge_cycle_file, encoding = \"ISO-8859-1\", sep='\\t')\n",
    "        charge_cycles.append(charge_cycle_df)\n",
    "    \n",
    "    # Loop through files with discharge cycles and add them to list\n",
    "    for discharge_cycle in glob.glob(os.path.join(c20_dir, '*dch.txt')):\n",
    "        discharge_cycle_file = os.path.join(c20_dir, discharge_cycle)\n",
    "        discharge_cycle_df = pd.read_csv(discharge_cycle_file, encoding = \"ISO-8859-1\", sep='\\t')\n",
    "        discharge_cycles.append(discharge_cycle_df)\n",
    "\n",
    "    # Add summary, charge cycles and discharge cycles to cell dictionary\n",
    "    cell_dict2[cell]['summary'] = summary_df\n",
    "    cell_dict2[cell]['charge'] = charge_cycles\n",
    "    cell_dict2[cell]['discharge'] = discharge_cycles\n",
    "    \n",
    "    i += 1"
   ]
  },
  {
   "cell_type": "code",
   "execution_count": 87,
   "id": "b2bcb61c",
   "metadata": {},
   "outputs": [
    {
     "name": "stdout",
     "output_type": "stream",
     "text": [
      "2\n",
      "2\n",
      "3\n",
      "2\n",
      "2\n",
      "2\n",
      "2\n",
      "2\n",
      "2\n",
      "1\n",
      "1\n",
      "2\n",
      "3\n",
      "3\n",
      "2\n",
      "2\n",
      "1\n",
      "1\n",
      "2\n",
      "2\n",
      "2\n",
      "2\n",
      "3\n",
      "2\n",
      "2\n",
      "2\n",
      "3\n",
      "3\n",
      "2\n",
      "3\n",
      "1\n",
      "3\n",
      "2\n",
      "1\n",
      "3\n",
      "2\n",
      "2\n",
      "2\n",
      "3\n",
      "2\n",
      "4\n",
      "3\n",
      "2\n",
      "3\n",
      "2\n"
     ]
    }
   ],
   "source": [
    "for cell in cell_dict.keys():\n",
    "    summary = cell_dict[cell]['summary']\n",
    "    c20 = summary.loc[summary['Current_dch (C)'] == -0.05]\n",
    "    boolarr = c20['Cycle - total - normalized'].between(100, 201) #df with index and column of true/false\n",
    "    firstTrue = np.where(boolarr==True)\n",
    "    print(firstTrue[0][0])\n",
    "    #print(list(c20['Cycle - total - normalized'].values)[2]) # Den tredje C20-syklusen for hver celle. 59-517\n",
    "    #c20.query('200 <= Cycle - total - normalized <= 400')\n",
    "    "
   ]
  },
  {
   "cell_type": "code",
   "execution_count": 85,
   "id": "ef269c8d",
   "metadata": {},
   "outputs": [
    {
     "data": {
      "text/plain": [
       "4       False\n",
       "51      False\n",
       "138      True\n",
       "259      True\n",
       "436     False\n",
       "618     False\n",
       "803     False\n",
       "990     False\n",
       "1180    False\n",
       "1479    False\n",
       "Name: Cycle - total - normalized, dtype: bool"
      ]
     },
     "execution_count": 85,
     "metadata": {},
     "output_type": "execute_result"
    }
   ],
   "source": [
    "boolarr"
   ]
  }
 ],
 "metadata": {
  "kernelspec": {
   "display_name": "Python 3",
   "language": "python",
   "name": "python3"
  },
  "language_info": {
   "codemirror_mode": {
    "name": "ipython",
    "version": 3
   },
   "file_extension": ".py",
   "mimetype": "text/x-python",
   "name": "python",
   "nbconvert_exporter": "python",
   "pygments_lexer": "ipython3",
   "version": "3.8.8"
  }
 },
 "nbformat": 4,
 "nbformat_minor": 5
}
