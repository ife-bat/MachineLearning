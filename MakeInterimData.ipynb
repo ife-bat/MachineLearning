{
 "cells": [
  {
   "cell_type": "markdown",
   "id": "66e3a16b",
   "metadata": {},
   "source": [
    "### This notebook takes in the raw MIT data and makes the following new datasets:\n",
    "\n",
    "- Summary data (per cycle)\n",
    "- Cycles interpolated data for cycle 10 and 100, discharge only\n",
    "- Difference in discharge capacity between cycle 100 and 10 ($\\Delta Q_{100-10}(V)$)\n"
   ]
  },
  {
   "cell_type": "code",
   "execution_count": 2,
   "id": "8cfddcfb",
   "metadata": {},
   "outputs": [],
   "source": [
    "import pathlib\n",
    "import matplotlib.pyplot as plt\n",
    "import pandas as pd\n",
    "import os, random\n",
    "import numpy as np\n",
    "from functions import select_dataset"
   ]
  },
  {
   "cell_type": "code",
   "execution_count": null,
   "id": "8f56ff51",
   "metadata": {},
   "outputs": [],
   "source": [
    "testfile = pathlib.Path(r\"C:\\Users\\ife12216\\OneDrive - Institutt for Energiteknikk\\Documents\\Masteroppgave\\MLData_selected\") / \"FastCharge_000022_CH24_structure.json\"\n",
    "testfile.is_file()"
   ]
  },
  {
   "cell_type": "code",
   "execution_count": null,
   "id": "b988057f",
   "metadata": {},
   "outputs": [],
   "source": [
    "df = pd.read_json(testfile)"
   ]
  },
  {
   "cell_type": "code",
   "execution_count": null,
   "id": "06692f2f",
   "metadata": {},
   "outputs": [],
   "source": [
    "df.head(5)"
   ]
  },
  {
   "cell_type": "markdown",
   "id": "2917c78b",
   "metadata": {},
   "source": [
    "#### Make Datasets and save as csv files"
   ]
  },
  {
   "cell_type": "code",
   "execution_count": null,
   "id": "38c1fa04",
   "metadata": {
    "scrolled": true
   },
   "outputs": [],
   "source": [
    "directory = r\"C:\\Users\\ife12216\\OneDrive - Institutt for Energiteknikk\\Documents\\Masteroppgave\\MLData\"\n",
    "savepath1 = r\"C:\\Users\\ife12216\\OneDrive - Institutt for Energiteknikk\\Documents\\Masteroppgave\\ML_Github\\data\\interim\\summary\"\n",
    "savepath2 = r\"C:\\Users\\ife12216\\OneDrive - Institutt for Energiteknikk\\Documents\\Masteroppgave\\ML_Github\\data\\interim\\cycles_interpolated\\cycle10_discharge\"\n",
    "savepath3 = r\"C:\\Users\\ife12216\\OneDrive - Institutt for Energiteknikk\\Documents\\Masteroppgave\\ML_Github\\data\\interim\\cycles_interpolated\\cycle100_discharge\"\n",
    "savepath4 = r\"C:\\Users\\ife12216\\OneDrive - Institutt for Energiteknikk\\Documents\\Masteroppgave\\ML_Github\\data\\interim\\cycles_interpolated\\DeltaQ100_10_discharge\"\n",
    "\n",
    "i = 0\n",
    "for filename in os.listdir(directory[101:]):\n",
    "    f = os.path.join(directory, filename)\n",
    "    # checking if it is a file\n",
    "    if os.path.isfile(f):\n",
    "        print(f)\n",
    "        \n",
    "        df = pd.read_json(f)\n",
    "        newfilename = filename[0:-15] # remove 'structure' from filename\n",
    "        \n",
    "        # Make csv files with summary data\n",
    "        summary = select_dataset(df, 'summary')\n",
    "        summary.to_csv(os.path.join(savepath1, newfilename + '_summary.csv'))\n",
    "        \n",
    "        # Make csv files with cycle 10 and 100 discharge data\n",
    "        cycles_interpolated = select_dataset(df, 'cycles_interpolated')\n",
    "        cycles_interpolated['cycle_life'] = cycles_interpolated.index[-1] # practical to have the cycle life in the same dataframe\n",
    "        \n",
    "        cycle10 = cycles_interpolated.loc[9,:]\n",
    "        cycle100 = cycles_interpolated.loc[99,:]\n",
    "        \n",
    "        cycle10_discharge = cycle10.loc[cycle10['step_type'] == 'discharge']\n",
    "        cycle100_discharge = cycle100.loc[cycle100['step_type'] == 'discharge']\n",
    "        \n",
    "        cycle10_discharge.to_csv(os.path.join(savepath2, newfilename + '_cycle10.csv'))\n",
    "        cycle100_discharge.to_csv(os.path.join(savepath3, newfilename + '_cycle100.csv'))\n",
    "        \n",
    "        # Make csv files with DeltaQ100-10 values (includes cycle life as well)\n",
    "        DeltaQ100_10 = pd.DataFrame({'discharge_capacity': cycle100_discharge['discharge_capacity'].values\\\n",
    "                                     - cycle10_discharge['discharge_capacity'].values,\\\n",
    "                                     'cycle_life': cycle10_discharge['cycle_life']})\n",
    "        \n",
    "        DeltaQ100_10.to_csv(os.path.join(savepath4, newfilename + '_DeltaQ100_10.csv'), index=False)"
   ]
  },
  {
   "cell_type": "markdown",
   "id": "8c7b89b7",
   "metadata": {},
   "source": [
    "### Testing"
   ]
  }
 ],
 "metadata": {
  "kernelspec": {
   "display_name": "Python 3",
   "language": "python",
   "name": "python3"
  },
  "language_info": {
   "codemirror_mode": {
    "name": "ipython",
    "version": 3
   },
   "file_extension": ".py",
   "mimetype": "text/x-python",
   "name": "python",
   "nbconvert_exporter": "python",
   "pygments_lexer": "ipython3",
   "version": "3.8.8"
  }
 },
 "nbformat": 4,
 "nbformat_minor": 5
}
